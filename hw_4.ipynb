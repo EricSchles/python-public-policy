{
 "cells": [
  {
   "cell_type": "markdown",
   "metadata": {
    "colab_type": "text",
    "id": "view-in-github"
   },
   "source": [
    "<a href=\"https://colab.research.google.com/github/afeld/python-public-policy/blob/master/hw_4.ipynb\" target=\"_parent\"><img src=\"https://colab.research.google.com/assets/colab-badge.svg\" alt=\"Open In Colab\"/></a>"
   ]
  },
  {
   "cell_type": "markdown",
   "metadata": {
    "colab_type": "text",
    "id": "ius3Gq1Bdjw7"
   },
   "source": [
    "# HOMEWORK 4 Coding: Trends in when different types of 311 occur over time"
   ]
  },
  {
   "cell_type": "markdown",
   "metadata": {
    "colab_type": "text",
    "id": "t9yinRiHWK-q"
   },
   "source": [
    "**Problem Statement**: Some 311 complaint types have interesting trends over time. Some are more prevalent at certain times of day, days of the week, seasons, etc. In this homework you will isolate the 10 most common complaint types and look at trends in when they occur."
   ]
  },
  {
   "cell_type": "markdown",
   "metadata": {
    "colab_type": "text",
    "id": "MZwpqohLJgGi"
   },
   "source": [
    "**Step 1**. Create a list of the top 10 complaint types (i.e. the complaint type categories that have the most records in our 311 dataset). Save the list as an object called `top_10`."
   ]
  },
  {
   "cell_type": "markdown",
   "metadata": {
    "colab_type": "text",
    "id": "Syl1bzy7KNYp"
   },
   "source": [
    "**Step 2**. Filter the 311 dataset to only 311 requests that have complaint types in `top_10`. Save this subset of data as a dataframe called `filtered_311`.\n"
   ]
  },
  {
   "cell_type": "markdown",
   "metadata": {
    "colab_type": "text",
    "id": "3EcnkcXtKmVk"
   },
   "source": [
    "**Step 3**. Convert the `Created Date` column in `filtered_311` to be a datetime series."
   ]
  },
  {
   "cell_type": "markdown",
   "metadata": {
    "colab_type": "text",
    "id": "0FSWaq7EMGQ0"
   },
   "source": [
    "**Step 4**. Create 6 new columns in `filtered_311` that extract each of the following from `Created Date`\n",
    "* year\n",
    "* date\n",
    "* month\n",
    "* weekday\n",
    "* weekday_name\n",
    "* hour"
   ]
  },
  {
   "cell_type": "markdown",
   "metadata": {
    "colab_type": "text",
    "id": "Gj_WIet_Mu-6"
   },
   "source": [
    "**Step 5. Trends by hour**\n",
    "\n",
    "Find the count of 311 requests per hour and date for each complaint type: \n",
    "\n",
    "* Find the count of 311 requests per hour and date for each complaint type:   \n",
    " * Hint: Use the pandas groupby function to aggregate the `filtered_311` dataframe by hour, date, and Complaint Type and count the number of 311 requests. Save the result as a new dataframe.\n",
    "\n",
    "* Find the median count of 311 requests per hour for each complaint type:\n",
    " * Hint: Group the new dataframe from Step A by hour and complaint type, getting the median of the counts across all the dates in each group. Save the result as a new dataframe.\n",
    "\n",
    "* Produce a line plot that has 10 lines on it, one for each of the top 10 complaint types. The x values will be hours and the y values will be the median count of requests per complaint type. Use a for loop to produce the 10 lines all one one figure. The final chart should look similar to this:\n",
    "\n",
    "![Count of complaints per hour](img/311_complaints_per_hour.png)\n"
   ]
  },
  {
   "cell_type": "markdown",
   "metadata": {
    "colab_type": "text",
    "id": "SqJrHTnhM-UZ"
   },
   "source": [
    "**Step 6. Trends by day of week**\n",
    "\n",
    "Reproduce the steps in 5, but this time aggregate by **weekday**, date, and Complaint Type. Produce a similar plot where the x values will be the days of the week and the y values will be the median count of requests per complaint type"
   ]
  },
  {
   "cell_type": "markdown",
   "metadata": {
    "colab_type": "text",
    "id": "JLKE8xVk-UT5"
   },
   "source": [
    "**Step 7. Trends by month**\n",
    "\n",
    "Reproduce the steps in 5, but this time aggregate by **month, year** (not date), and Complaint Type. Produce a similar plot where x values will be month and y values will be the median count of requests per complaint type"
   ]
  },
  {
   "cell_type": "markdown",
   "metadata": {
    "colab_type": "text",
    "id": "YxrqYGciXL4h"
   },
   "source": [
    "**Step 8**. Write a few sentences with your observations on how the occurrence of different complaint types varies over time, informed by the charts you produced in Steps 5-7."
   ]
  },
  {
   "cell_type": "markdown",
   "metadata": {
    "colab_type": "text",
    "id": "a7IkaBbsvWTK"
   },
   "source": [
    "# HOMEWORK 4 Tutorial: None!"
   ]
  }
 ],
 "metadata": {
  "colab": {
   "collapsed_sections": [
    "Omm4n3FmPHlF"
   ],
   "include_colab_link": true,
   "name": "lecture_5.ipynb",
   "provenance": []
  },
  "kernelspec": {
   "display_name": "Python 3",
   "language": "python",
   "name": "python3"
  },
  "language_info": {
   "codemirror_mode": {
    "name": "ipython",
    "version": 3
   },
   "file_extension": ".py",
   "mimetype": "text/x-python",
   "name": "python",
   "nbconvert_exporter": "python",
   "pygments_lexer": "ipython3",
   "version": "3.8.0"
  }
 },
 "nbformat": 4,
 "nbformat_minor": 4
}
