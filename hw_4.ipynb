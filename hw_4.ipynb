{
 "cells": [
  {
   "cell_type": "markdown",
   "metadata": {
    "colab_type": "text",
    "id": "view-in-github"
   },
   "source": [
    "<a href=\"https://colab.research.google.com/github/afeld/python-public-policy/blob/master/hw_4.ipynb\" target=\"_parent\"><img src=\"https://colab.research.google.com/assets/colab-badge.svg\" alt=\"Open In Colab\"/></a>"
   ]
  },
  {
   "cell_type": "markdown",
   "metadata": {
    "colab_type": "text",
    "id": "ddj8VVZRixCn"
   },
   "source": [
    "# HOMEWORK 4 Coding: The relationship between concentration of homeless shelters and count of 311 requests related to homeless services"
   ]
  },
  {
   "cell_type": "markdown",
   "metadata": {
    "colab_type": "text",
    "id": "t9yinRiHWK-q"
   },
   "source": [
    "**Problem Statement**: Homelesses is a big concern in New York City. The Department of Homeless Services is tasked with providing services and housing for people who are homeless. They recently began publishing the count of homeless shelter buildings per community district on NYC Open Data to provide more transparency into where shelters are located. The dataset provides counts in multiple columns for different categories of buildings. It also includes counts from different reporting dates.\n",
    "\n",
    "The 311 Service Requests dataset includes a complaint type called \"Homeless Person Assistance\". Let's find out if there's a relationship between the number of homeless assistance 311 requests and the concentration of homeless shelter buildings per community district."
   ]
  },
  {
   "cell_type": "markdown",
   "metadata": {
    "colab_type": "text",
    "id": "MZwpqohLJgGi"
   },
   "source": [
    "**Step 1**. Load the datasets:\n",
    "- Cleaned 311 data that excludes records with invalid community districts. Shared with you on Google Drive as `cleaned_311_data_revised.csv`\n",
    "- NYC Open dataset that provides the total count of different types of homeless shelter buildings per community district. \n",
    "  - Data source page where you can preview the data: https://data.cityofnewyork.us/Social-Services/Buildings-by-Borough-and-Community-District/3qem-6v3v/data\n",
    "  - CSV data download link you can plug into the `pd.read_csv()` function: https://data.cityofnewyork.us/api/views/3qem-6v3v/rows.csv?accessType=DOWNLOAD"
   ]
  },
  {
   "cell_type": "markdown",
   "metadata": {
    "colab_type": "text",
    "id": "Syl1bzy7KNYp"
   },
   "source": [
    "**Step 2**. Filter the shelter count dataframe to only keep rows where the value in the 'Report Date' column is '09/30/2019'"
   ]
  },
  {
   "cell_type": "markdown",
   "metadata": {
    "colab_type": "text",
    "id": "3EcnkcXtKmVk"
   },
   "source": [
    "**Step 3**. Create a new column in the shelter count dataframe that calculates the sum of all the individual count columns: 'Adult Family Comm Hotel', 'Adult Family Shelter', 'Adult Shelter', 'Adult Shelter Comm Hotel', 'FWC Cluster', 'FWC Comm Hotel', 'FWC Shelter'\n",
    "\n",
    "- Tip: There are multiple ways to add these columns together. With one approach, you may find that your total column contains NaN values. This is because many of the columns contains NaN/empty values. When you add a real number to a NaN, the sum will be NaN. To get around this, you will need to fill in all the NaN values with 0 instead. Use the `.fillna(0)` method on your shelter count dataframe."
   ]
  },
  {
   "cell_type": "markdown",
   "metadata": {
    "colab_type": "text",
    "id": "0FSWaq7EMGQ0"
   },
   "source": [
    "**Step 4**. From the 311 dataset, create a subset of all the 311 requests where `complaint_type == 'Homeless Person Assistance'`"
   ]
  },
  {
   "cell_type": "markdown",
   "metadata": {
    "colab_type": "text",
    "id": "Gj_WIet_Mu-6"
   },
   "source": [
    "**Step 5**. Group the 311 subset by 'borocd' to get the count of 'Homeless Person Assistance' requests per community district"
   ]
  },
  {
   "cell_type": "markdown",
   "metadata": {
    "colab_type": "text",
    "id": "SqJrHTnhM-UZ"
   },
   "source": [
    "**Step 6**. Merge the homeless 311 request count table (from Step 5) with the shelter count table (from Step 3).\n",
    "- Tip: Not all community districts have homeless facilities in them. Use a left join with the 311 complaints as the left table and shelter counts as the right table. After doing this, you should fill in the new NaNs with zeros using the `.fillna(0)` method on your dataframe."
   ]
  },
  {
   "cell_type": "markdown",
   "metadata": {
    "colab_type": "text",
    "id": "JLKE8xVk-UT5"
   },
   "source": [
    "**Step 7**. Produce a scatter plot of the data using the `matplotlib` package. What is your initial impression on whether there is a correlation between number of shelters and count of 311 homeless service requests?"
   ]
  },
  {
   "cell_type": "markdown",
   "metadata": {
    "colab_type": "text",
    "id": "Wb__VF5_PfJW"
   },
   "source": [
    "**Step 8**. Use `np.corrcoef(x, y)` to identify the correlation coefficient between count of total shelter buildings and count of homeless requests per community district."
   ]
  },
  {
   "cell_type": "markdown",
   "metadata": {
    "colab_type": "text",
    "id": "Akfq7zNcQIyO"
   },
   "source": [
    "**Step 9**. Perform a linear regression with count of total shelter buildings as the independent variable and count of homeless requests as the dependent variable\n",
    "\n"
   ]
  },
  {
   "cell_type": "markdown",
   "metadata": {
    "colab_type": "text",
    "id": "kBsEXWmkREYF"
   },
   "source": [
    "**Step 10**. Produce a scatter plot of the data with the line of best fit from your linear regression using the `matplotlib` package"
   ]
  },
  {
   "cell_type": "markdown",
   "metadata": {
    "colab_type": "text",
    "id": "HtJMPlOHRzLk"
   },
   "source": [
    "**Step 11**: Write a sentence or two explaining the results of your analysis. What do the numbers and chart tell you about the relationship between concentration of homeless shelters vs. frequency of 311 requests related to homelessness?\n",
    "\n",
    "**Additional context on 311 use cases related to homeless services**:\n",
    "- What do \"Homeless Person Assistance\" requests actually entail? https://www1.nyc.gov/site/dhs/outreach/street-outreach.page\n",
    "- 311 web page encouraging residents of shelters to complain about unsuitable conditions. Unfortunately those complaints are not clearly labeled in the 311 data. https://portal.311.nyc.gov/article/?kanumber=KA-01039\n",
    "- News article referencing conditions in shelters and residents reporting problems through 311. https://www.nydailynews.com/new-york/nyc-homeless-shelter-residents-call-311-no-listening-article-1.2759222\n"
   ]
  },
  {
   "cell_type": "markdown",
   "metadata": {
    "colab_type": "text",
    "id": "a7IkaBbsvWTK"
   },
   "source": [
    "# HOMEWORK 4 Tutorial: Time series data"
   ]
  },
  {
   "cell_type": "markdown",
   "metadata": {
    "colab_type": "text",
    "id": "IlkkeHWGzy63"
   },
   "source": [
    "[Tutorial: Time Series Analysis with Pandas](https://www.dataquest.io/blog/tutorial-time-series-analysis-with-pandas/)"
   ]
  }
 ],
 "metadata": {
  "colab": {
   "collapsed_sections": [
    "Omm4n3FmPHlF"
   ],
   "include_colab_link": true,
   "name": "lecture_4.ipynb",
   "provenance": []
  },
  "kernelspec": {
   "display_name": "Python 3",
   "language": "python",
   "name": "python3"
  },
  "language_info": {
   "codemirror_mode": {
    "name": "ipython",
    "version": 3
   },
   "file_extension": ".py",
   "mimetype": "text/x-python",
   "name": "python",
   "nbconvert_exporter": "python",
   "pygments_lexer": "ipython3",
   "version": "3.8.0"
  }
 },
 "nbformat": 4,
 "nbformat_minor": 4
}
