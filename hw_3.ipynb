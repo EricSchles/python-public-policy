{
 "cells": [
  {
   "cell_type": "markdown",
   "metadata": {
    "colab_type": "text",
    "id": "view-in-github"
   },
   "source": [
    "<a href=\"https://colab.research.google.com/github/afeld/python-public-policy/blob/master/hw_3.ipynb\" target=\"_parent\"><img src=\"https://colab.research.google.com/assets/colab-badge.svg\" alt=\"Open In Colab\"/></a>"
   ]
  },
  {
   "cell_type": "markdown",
   "metadata": {
    "colab_type": "text",
    "id": "7fo4kU_UjgyY"
   },
   "source": [
    "# **NYU Wagner - Python Coding for Public Policy**\n",
    "# Starter notebook for HW3: Analyzing and visualizing specific categories of 311 complaints\n",
    "\n",
    "1. Complete Coding section\n",
    "1. Tutorial: Go through [Simple and Multiple Linear Regression in Python](https://towardsdatascience.com/simple-and-multiple-linear-regression-in-python-c928425168f9).\n",
    "    - Ignore the reference to needing to install Anaconda. That's only relevant if you're running Python on your computer instead of in a cloud notebook. `statsmodels.api` and `sklearn` are already installed in the Colab environment, so you just need to `import` them."
   ]
  },
  {
   "cell_type": "markdown",
   "metadata": {
    "colab_type": "text",
    "id": "9rvnMzjSMK36"
   },
   "source": [
    "## Start by importing necessary packages"
   ]
  },
  {
   "cell_type": "code",
   "execution_count": null,
   "metadata": {
    "colab": {},
    "colab_type": "code",
    "id": "afIn7RhGFj7j"
   },
   "outputs": [],
   "source": [
    "import pandas as pd\n",
    "import matplotlib.pyplot as plt \n",
    "import numpy as np\n",
    "\n",
    "from google.colab import drive\n",
    "\n",
    "pd.set_option('display.max_columns', None)\n",
    "pd.set_option('display.max_rows', None)"
   ]
  },
  {
   "cell_type": "markdown",
   "metadata": {
    "colab_type": "text",
    "id": "R1G04BmMMFJb"
   },
   "source": [
    "## Read and save our cleaned 311 Service Requests dataset as a pandas dataframe named \"df\""
   ]
  },
  {
   "cell_type": "code",
   "execution_count": 2,
   "metadata": {
    "colab": {
     "base_uri": "https://localhost:8080/",
     "height": 88
    },
    "colab_type": "code",
    "id": "vF4GZaq-Fvoq",
    "outputId": "b8af9261-591f-4fac-d830-14d3614b8563"
   },
   "outputs": [
    {
     "name": "stdout",
     "output_type": "stream",
     "text": [
      "Drive already mounted at /content/drive; to attempt to forcibly remount, call drive.mount(\"/content/drive\", force_remount=True).\n"
     ]
    },
    {
     "name": "stderr",
     "output_type": "stream",
     "text": [
      "/usr/local/lib/python3.6/dist-packages/IPython/core/interactiveshell.py:2718: DtypeWarning: Columns (9,18,21,32,35) have mixed types. Specify dtype option on import or set low_memory=False.\n",
      "  interactivity=interactivity, compiler=compiler, result=result)\n"
     ]
    }
   ],
   "source": [
    "drive.mount('/content/drive')\n",
    "df = pd.read_csv('/content/drive/My Drive/Data for Python/cleaned_311_data.csv')"
   ]
  },
  {
   "cell_type": "markdown",
   "metadata": {
    "colab_type": "text",
    "id": "LvGH8N9CLcj4"
   },
   "source": [
    "## **Problem Statement:** \n",
    "There seems to be a general trend that the higher the community district population, the higher the number of 311 requests. However, there is a lot of variance in the data. What if we only look at complaint types that are likely influenced by population?\n",
    "\n",
    "\"Noise - Residential\" and \"HEAT/HOT WATER\" were the most frequest requests in the entire 311 dataset. Let's try isolating the count of requests in each of those two categories versus all the other complaints."
   ]
  },
  {
   "cell_type": "markdown",
   "metadata": {
    "colab_type": "text",
    "id": "xmKsEI-BkoXZ"
   },
   "source": [
    "**Step 1**. First you will need to prep your data to get the count of complaints categorized as Noise - Residential, HEAT/HOT WATER, and everything else. You can update the code from lecture that gets the total count of 311 requests per CD to instead get the count of 311 requests per CD that meet the criteria for the 3 categories. You should create three separate dataframes, one per category:\n",
    "\n",
    "1. `complaint_type = 'Noise - Residential'`\n",
    "2. `complaint_type = 'HEAT/HOT WATER'`\n",
    "3. Everything else: `(complaint_type != 'Noise - Residential') & (complaint_type != 'HEAT/HOT WATER')`"
   ]
  },
  {
   "cell_type": "markdown",
   "metadata": {
    "colab_type": "text",
    "id": "WLfodgid1PUf"
   },
   "source": [
    "First create 3 dataframes, that contain the desired rows based on the complaint_type row filtering."
   ]
  },
  {
   "cell_type": "code",
   "execution_count": null,
   "metadata": {
    "colab": {},
    "colab_type": "code",
    "id": "troJZFWgq9zg"
   },
   "outputs": [],
   "source": [
    "noise = df[df.complaint_type == 'Noise - Residential']\n",
    "heatwater = df[df.complaint_type == 'HEAT/HOT WATER']\n",
    "other = df[(df.complaint_type != 'HEAT/HOT WATER') & (df.complaint_type != 'Noise - Residential')]"
   ]
  },
  {
   "cell_type": "markdown",
   "metadata": {
    "colab_type": "text",
    "id": "Y4zBrzYhUDP3"
   },
   "source": [
    "Then group each dataframes by the `community_board` value to get the count of request per community district."
   ]
  },
  {
   "cell_type": "code",
   "execution_count": 4,
   "metadata": {
    "colab": {
     "base_uri": "https://localhost:8080/",
     "height": 85
    },
    "colab_type": "code",
    "id": "hLIoPlYrUClp",
    "outputId": "6f4c8251-b45a-413b-8b50-3cd3a2401a09"
   },
   "outputs": [
    {
     "name": "stdout",
     "output_type": "stream",
     "text": [
      "69\n",
      "66\n",
      "77\n",
      "77\n"
     ]
    }
   ],
   "source": [
    "count_noise = noise.groupby('community_board').size().reset_index(name='count_of_311_requests')\n",
    "print(len(count_noise))\n",
    "\n",
    "count_heatwater = heatwater.groupby('community_board').size().reset_index(name='count_of_311_requests')\n",
    "print(len(count_heatwater))\n",
    "\n",
    "count_other = other.groupby('community_board').size().reset_index(name='count_of_311_requests')\n",
    "print(len(count_other))\n",
    "\n",
    "# note: we won't use count_all in the charts, but we can use it as a check that the subsets all add up to the correct total\n",
    "count_all = df.groupby('community_board').size().reset_index(name='count_of_311_requests')\n",
    "print(len(count_all))"
   ]
  },
  {
   "cell_type": "markdown",
   "metadata": {
    "colab_type": "text",
    "id": "JCA-z7Go0_BM"
   },
   "source": [
    "Note the lengths of these dataframes. We can see that we're going to run into problems, because they're each a different length (i.e. have a different number of rows) and they're all greater than 59. There are only 59 community districts in the city, so these dataframes are including some extra invalid community district rows. The invalid rows include community board values containing \"Unspecified\" or district numbers that are higher than what exist in real life. Ex: '84 QUEENS', 'Unspecified BRONX'\n"
   ]
  },
  {
   "cell_type": "markdown",
   "metadata": {
    "colab_type": "text",
    "id": "bFtFoNIh2OUo"
   },
   "source": [
    "Here's a list of all the valid borocd values that exist in the city:"
   ]
  },
  {
   "cell_type": "code",
   "execution_count": null,
   "metadata": {
    "colab": {},
    "colab_type": "code",
    "id": "ATGOqZ4E2H3f"
   },
   "outputs": [],
   "source": [
    "valid_borocds = ['101','102','103','104','105','106','107','108','109','110','111','112','201','202','203','204','205','206','207','208','209','210','211','212','301','302','303','304','305','306','307','308','309','310','311','312','313','314','315','316','317','318','401','402','403','404','405','406','407','408','409','410','411','412','413','414','501','502','503']"
   ]
  },
  {
   "cell_type": "markdown",
   "metadata": {
    "colab_type": "text",
    "id": "lxVd_nzZ1zHM"
   },
   "source": [
    "If we recode the community_board column into borocd, we can filter our dataframes to only keep valid borocd rows"
   ]
  },
  {
   "cell_type": "code",
   "execution_count": null,
   "metadata": {
    "colab": {},
    "colab_type": "code",
    "id": "DJwokPlrGNKv"
   },
   "outputs": [],
   "source": [
    "# this function will recode the community_board value into borocd in a new column\n",
    "\n",
    "def recode_borocd_counts(row):\n",
    "  if row.community_board[0] != 'U':\n",
    "    if 'MANHATTAN' in row.community_board:\n",
    "      return '1' + row.community_board[0:2]\n",
    "    elif 'BRONX' in row.community_board:\n",
    "      return '2' + row.community_board[0:2]\n",
    "    elif 'BROOKLYN' in row.community_board:\n",
    "      return '3' + row.community_board[0:2]\n",
    "    elif 'QUEENS' in row.community_board:\n",
    "      return '4' + row.community_board[0:2]\n",
    "    elif 'STATEN ISLAND' in row.community_board:\n",
    "      return '5' + row.community_board[0:2]\n",
    "  else:\n",
    "    return 'Invalid borocd'\n",
    "\n",
    "# we can apply the function to each of our dataframes. this is the beauty of functions; you can reuse them on multiple objects!\n",
    "\n",
    "count_noise['borocd'] = count_noise.apply(recode_borocd_counts, axis=1)\n",
    "\n",
    "count_heatwater['borocd'] = count_heatwater.apply(recode_borocd_counts, axis=1)\n",
    "\n",
    "count_other['borocd'] = count_other.apply(recode_borocd_counts, axis=1)\n",
    "\n",
    "count_all['borocd'] = count_all.apply(recode_borocd_counts, axis=1)"
   ]
  },
  {
   "cell_type": "markdown",
   "metadata": {
    "colab_type": "text",
    "id": "sud8LNl03bkK"
   },
   "source": [
    "Now we can filter the dataframes to only keep the valid borocd rows. Remember the `.isin()` function from one of our prior lectures?"
   ]
  },
  {
   "cell_type": "code",
   "execution_count": 7,
   "metadata": {
    "colab": {
     "base_uri": "https://localhost:8080/",
     "height": 85
    },
    "colab_type": "code",
    "id": "APZ8jJwJ3Bmy",
    "outputId": "13e7e6d4-6f59-4d9f-fec7-b19ce45260a8"
   },
   "outputs": [
    {
     "name": "stdout",
     "output_type": "stream",
     "text": [
      "59\n",
      "59\n",
      "59\n",
      "59\n"
     ]
    }
   ],
   "source": [
    "count_noise = count_noise[count_noise.borocd.isin(valid_borocds)]\n",
    "print(len(count_noise))\n",
    "\n",
    "count_heatwater = count_heatwater[count_heatwater.borocd.isin(valid_borocds)]\n",
    "print(len(count_heatwater))\n",
    "\n",
    "count_other = count_other[count_other.borocd.isin(valid_borocds)]\n",
    "print(len(count_other))\n",
    "\n",
    "count_all = count_all[count_all.borocd.isin(valid_borocds)]\n",
    "print(len(count_all))"
   ]
  },
  {
   "cell_type": "markdown",
   "metadata": {
    "colab_type": "text",
    "id": "lzg5cgR93vgD"
   },
   "source": [
    "Great, now we have clean dataframes that are all the same, correct length. Let's make sure the 311 request counts add up as expected."
   ]
  },
  {
   "cell_type": "code",
   "execution_count": 8,
   "metadata": {
    "colab": {
     "base_uri": "https://localhost:8080/",
     "height": 425
    },
    "colab_type": "code",
    "id": "9fAx9jYT459Q",
    "outputId": "fcc4e896-0c34-4961-bfe5-685b3576ef60"
   },
   "outputs": [
    {
     "name": "stdout",
     "output_type": "stream",
     "text": [
      "    community_board  count_of_311_requests borocd\n",
      "1          01 BRONX                   3691    201\n",
      "2       01 BROOKLYN                   5844    301\n",
      "3      01 MANHATTAN                    722    101\n",
      "4         01 QUEENS                   4589    401\n",
      "5  01 STATEN ISLAND                   5052    501\n",
      "    community_board  count_of_311_requests borocd\n",
      "0          01 BRONX                   3346    201\n",
      "1       01 BROOKLYN                   2868    301\n",
      "2      01 MANHATTAN                    276    101\n",
      "3         01 QUEENS                   2466    401\n",
      "4  01 STATEN ISLAND                   1644    501\n",
      "    community_board  count_of_311_requests borocd\n",
      "1          01 BRONX                  20316    201\n",
      "2       01 BROOKLYN                  59389    301\n",
      "3      01 MANHATTAN                  20261    101\n",
      "4         01 QUEENS                  53370    401\n",
      "5  01 STATEN ISLAND                  58449    501\n",
      "    community_board  count_of_311_requests borocd\n",
      "1          01 BRONX                  27353    201\n",
      "2       01 BROOKLYN                  68101    301\n",
      "3      01 MANHATTAN                  21259    101\n",
      "4         01 QUEENS                  60425    401\n",
      "5  01 STATEN ISLAND                  65145    501\n"
     ]
    }
   ],
   "source": [
    "print(count_noise.head())\n",
    "print(count_heatwater.head())\n",
    "print(count_other.head())\n",
    "print(count_all.head())"
   ]
  },
  {
   "cell_type": "code",
   "execution_count": 9,
   "metadata": {
    "colab": {
     "base_uri": "https://localhost:8080/",
     "height": 34
    },
    "colab_type": "code",
    "id": "PuNKZhxg-VLg",
    "outputId": "b5f5ae8a-de0f-458f-fa8e-7c4c3d575749"
   },
   "outputs": [
    {
     "data": {
      "text/plain": [
       "True"
      ]
     },
     "execution_count": 9,
     "metadata": {
      "tags": []
     },
     "output_type": "execute_result"
    }
   ],
   "source": [
    "27353 == 20316 + 3346 + 3691"
   ]
  },
  {
   "cell_type": "markdown",
   "metadata": {
    "colab_type": "text",
    "id": "ih2iDxK9RlnM"
   },
   "source": [
    "Everything adds up, and we're ready to start Step 2"
   ]
  },
  {
   "cell_type": "markdown",
   "metadata": {
    "colab_type": "text",
    "id": "1X6gVfhFlXf_"
   },
   "source": [
    "**Step 2**. Create a stacked bar chart of 311 requests per community district. Each community district bar should be comprised of three stacked bars, one for each category listed below. The total height of each community district bar (the sum of the three stacked bars) should reflect the total count of 311 complaints per community district.\n",
    "- number of `'Noise - Residential'` complaints per community district\n",
    "- number of `'HEAT/HOT WATER'` complaints per community district\n",
    "- number of other complaints per community district "
   ]
  },
  {
   "cell_type": "code",
   "execution_count": null,
   "metadata": {
    "colab": {},
    "colab_type": "code",
    "id": "D8muMVh1P7i8"
   },
   "outputs": [],
   "source": [
    "# your code goes here"
   ]
  },
  {
   "cell_type": "markdown",
   "metadata": {
    "colab_type": "text",
    "id": "OmKWCK9GlzgY"
   },
   "source": [
    "**Step 3**. Using the same three dataframes created in Step 1, create a scatter plot of community district population (x-axis) vs. community district 311 counts (y-axis) split out by complaint category (noise, heat/water, other). The scatter plot should show the counts of each of the three complaint categories in a different color."
   ]
  },
  {
   "cell_type": "code",
   "execution_count": null,
   "metadata": {
    "colab": {},
    "colab_type": "code",
    "id": "QFwWzt8uJecX"
   },
   "outputs": [],
   "source": [
    "# your code goes here"
   ]
  },
  {
   "cell_type": "markdown",
   "metadata": {
    "colab_type": "text",
    "id": "cEpkaB9wYOw8"
   },
   "source": [
    "Does it seem like there's a positive correlation between population and noise complaints or population and heat/water complaints? What's a possible explanation for the relationship or lack of relationship?"
   ]
  }
 ],
 "metadata": {
  "colab": {
   "collapsed_sections": [],
   "include_colab_link": true,
   "name": "hw_3.ipynb",
   "provenance": []
  },
  "kernelspec": {
   "display_name": "Python 3",
   "language": "python",
   "name": "python3"
  },
  "language_info": {
   "codemirror_mode": {
    "name": "ipython",
    "version": 3
   },
   "file_extension": ".py",
   "mimetype": "text/x-python",
   "name": "python",
   "nbconvert_exporter": "python",
   "pygments_lexer": "ipython3",
   "version": "3.8.0"
  }
 },
 "nbformat": 4,
 "nbformat_minor": 4
}
