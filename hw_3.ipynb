{
 "cells": [
  {
   "cell_type": "markdown",
   "metadata": {},
   "source": [
    "<a href=\"https://colab.research.google.com/github/afeld/python-public-policy/blob/master/hw_3.ipynb\" target=\"_parent\"><img src=\"https://colab.research.google.com/assets/colab-badge.svg\" alt=\"Open In Colab\"/></a>\n",
    "\n",
    "# Homework 3\n",
    "\n",
    "1. Complete the **Coding** exercise below.\n",
    "1. **Tutorial:** Go the first third of [Time Series Analysis with Pandas](https://www.dataquest.io/blog/tutorial-time-series-analysis-with-pandas/), up until the \"Visualizing time series data\" section.\n",
    "\n",
    "## Coding\n",
    "\n",
    "We are going to look at the population count of different community districts over time.\n",
    "\n",
    "### Step 1\n",
    "\n",
    "Read the data from the [New York City Population By Community Districts](https://data.cityofnewyork.us/City-Government/New-York-City-Population-By-Community-Districts/xi7c-iiu2/data) data set into a DataFrame called `df`, and print it out. To get the URL:\n",
    "\n",
    "1. Visit the page linked above.\n",
    "1. Click `Export`.\n",
    "1. Right-click `CSV`.\n",
    "1. Click `Copy Link Address` (or `Location`, depending on your browser)."
   ]
  },
  {
   "cell_type": "code",
   "execution_count": 76,
   "metadata": {},
   "outputs": [
    {
     "data": {
      "text/html": [
       "<div>\n",
       "<style scoped>\n",
       "    .dataframe tbody tr th:only-of-type {\n",
       "        vertical-align: middle;\n",
       "    }\n",
       "\n",
       "    .dataframe tbody tr th {\n",
       "        vertical-align: top;\n",
       "    }\n",
       "\n",
       "    .dataframe thead th {\n",
       "        text-align: right;\n",
       "    }\n",
       "</style>\n",
       "<table border=\"1\" class=\"dataframe\">\n",
       "  <thead>\n",
       "    <tr style=\"text-align: right;\">\n",
       "      <th></th>\n",
       "      <th>Borough</th>\n",
       "      <th>CD Number</th>\n",
       "      <th>CD Name</th>\n",
       "      <th>1970 Population</th>\n",
       "      <th>1980 Population</th>\n",
       "      <th>1990 Population</th>\n",
       "      <th>2000 Population</th>\n",
       "      <th>2010 Population</th>\n",
       "    </tr>\n",
       "  </thead>\n",
       "  <tbody>\n",
       "    <tr>\n",
       "      <th>0</th>\n",
       "      <td>Bronx</td>\n",
       "      <td>1</td>\n",
       "      <td>Melrose, Mott Haven, Port Morris</td>\n",
       "      <td>138557</td>\n",
       "      <td>78441</td>\n",
       "      <td>77214</td>\n",
       "      <td>82159</td>\n",
       "      <td>91497</td>\n",
       "    </tr>\n",
       "    <tr>\n",
       "      <th>1</th>\n",
       "      <td>Bronx</td>\n",
       "      <td>2</td>\n",
       "      <td>Hunts Point, Longwood</td>\n",
       "      <td>99493</td>\n",
       "      <td>34399</td>\n",
       "      <td>39443</td>\n",
       "      <td>46824</td>\n",
       "      <td>52246</td>\n",
       "    </tr>\n",
       "    <tr>\n",
       "      <th>2</th>\n",
       "      <td>Bronx</td>\n",
       "      <td>3</td>\n",
       "      <td>Morrisania, Crotona Park East</td>\n",
       "      <td>150636</td>\n",
       "      <td>53635</td>\n",
       "      <td>57162</td>\n",
       "      <td>68574</td>\n",
       "      <td>79762</td>\n",
       "    </tr>\n",
       "    <tr>\n",
       "      <th>3</th>\n",
       "      <td>Bronx</td>\n",
       "      <td>4</td>\n",
       "      <td>Highbridge, Concourse Village</td>\n",
       "      <td>144207</td>\n",
       "      <td>114312</td>\n",
       "      <td>119962</td>\n",
       "      <td>139563</td>\n",
       "      <td>146441</td>\n",
       "    </tr>\n",
       "    <tr>\n",
       "      <th>4</th>\n",
       "      <td>Bronx</td>\n",
       "      <td>5</td>\n",
       "      <td>University Hts., Fordham, Mt. Hope</td>\n",
       "      <td>121807</td>\n",
       "      <td>107995</td>\n",
       "      <td>118435</td>\n",
       "      <td>128313</td>\n",
       "      <td>128200</td>\n",
       "    </tr>\n",
       "    <tr>\n",
       "      <th>5</th>\n",
       "      <td>Bronx</td>\n",
       "      <td>6</td>\n",
       "      <td>East Tremont, Belmont</td>\n",
       "      <td>114137</td>\n",
       "      <td>65016</td>\n",
       "      <td>68061</td>\n",
       "      <td>75688</td>\n",
       "      <td>83268</td>\n",
       "    </tr>\n",
       "    <tr>\n",
       "      <th>6</th>\n",
       "      <td>Bronx</td>\n",
       "      <td>7</td>\n",
       "      <td>Bedford Park, Norwood, Fordham</td>\n",
       "      <td>113764</td>\n",
       "      <td>116827</td>\n",
       "      <td>128588</td>\n",
       "      <td>141411</td>\n",
       "      <td>139286</td>\n",
       "    </tr>\n",
       "    <tr>\n",
       "      <th>7</th>\n",
       "      <td>Bronx</td>\n",
       "      <td>8</td>\n",
       "      <td>Riverdale, Kingsbridge, Marble Hill</td>\n",
       "      <td>103543</td>\n",
       "      <td>98275</td>\n",
       "      <td>97030</td>\n",
       "      <td>101332</td>\n",
       "      <td>101731</td>\n",
       "    </tr>\n",
       "    <tr>\n",
       "      <th>8</th>\n",
       "      <td>Bronx</td>\n",
       "      <td>9</td>\n",
       "      <td>Soundview, Parkchester</td>\n",
       "      <td>166442</td>\n",
       "      <td>167627</td>\n",
       "      <td>155970</td>\n",
       "      <td>167859</td>\n",
       "      <td>172298</td>\n",
       "    </tr>\n",
       "    <tr>\n",
       "      <th>9</th>\n",
       "      <td>Bronx</td>\n",
       "      <td>10</td>\n",
       "      <td>Throgs Nk., Co-op City, Pelham Bay</td>\n",
       "      <td>84948</td>\n",
       "      <td>106516</td>\n",
       "      <td>108093</td>\n",
       "      <td>115948</td>\n",
       "      <td>120392</td>\n",
       "    </tr>\n",
       "    <tr>\n",
       "      <th>10</th>\n",
       "      <td>Bronx</td>\n",
       "      <td>11</td>\n",
       "      <td>Pelham Pkwy, Morris Park, Laconia</td>\n",
       "      <td>105980</td>\n",
       "      <td>99080</td>\n",
       "      <td>97842</td>\n",
       "      <td>110706</td>\n",
       "      <td>113232</td>\n",
       "    </tr>\n",
       "    <tr>\n",
       "      <th>11</th>\n",
       "      <td>Bronx</td>\n",
       "      <td>12</td>\n",
       "      <td>Wakefield, Williamsbridge</td>\n",
       "      <td>135010</td>\n",
       "      <td>128226</td>\n",
       "      <td>129620</td>\n",
       "      <td>149077</td>\n",
       "      <td>152344</td>\n",
       "    </tr>\n",
       "    <tr>\n",
       "      <th>12</th>\n",
       "      <td>Brooklyn</td>\n",
       "      <td>1</td>\n",
       "      <td>Williamsburg, Greenpoint</td>\n",
       "      <td>179390</td>\n",
       "      <td>142942</td>\n",
       "      <td>155972</td>\n",
       "      <td>160338</td>\n",
       "      <td>173083</td>\n",
       "    </tr>\n",
       "    <tr>\n",
       "      <th>13</th>\n",
       "      <td>Brooklyn</td>\n",
       "      <td>2</td>\n",
       "      <td>Brooklyn Heights, Fort Greene</td>\n",
       "      <td>110221</td>\n",
       "      <td>92732</td>\n",
       "      <td>94534</td>\n",
       "      <td>98620</td>\n",
       "      <td>99617</td>\n",
       "    </tr>\n",
       "    <tr>\n",
       "      <th>14</th>\n",
       "      <td>Brooklyn</td>\n",
       "      <td>3</td>\n",
       "      <td>Bedford Stuyvesant</td>\n",
       "      <td>203380</td>\n",
       "      <td>133379</td>\n",
       "      <td>138696</td>\n",
       "      <td>143867</td>\n",
       "      <td>152985</td>\n",
       "    </tr>\n",
       "    <tr>\n",
       "      <th>15</th>\n",
       "      <td>Brooklyn</td>\n",
       "      <td>4</td>\n",
       "      <td>Bushwick</td>\n",
       "      <td>137902</td>\n",
       "      <td>92497</td>\n",
       "      <td>102572</td>\n",
       "      <td>104358</td>\n",
       "      <td>112634</td>\n",
       "    </tr>\n",
       "    <tr>\n",
       "      <th>16</th>\n",
       "      <td>Brooklyn</td>\n",
       "      <td>5</td>\n",
       "      <td>East New York, Starrett City</td>\n",
       "      <td>170791</td>\n",
       "      <td>154931</td>\n",
       "      <td>161350</td>\n",
       "      <td>173198</td>\n",
       "      <td>182896</td>\n",
       "    </tr>\n",
       "    <tr>\n",
       "      <th>17</th>\n",
       "      <td>Brooklyn</td>\n",
       "      <td>6</td>\n",
       "      <td>Park Slope, Carroll Gardens</td>\n",
       "      <td>138933</td>\n",
       "      <td>110228</td>\n",
       "      <td>102724</td>\n",
       "      <td>104054</td>\n",
       "      <td>104709</td>\n",
       "    </tr>\n",
       "    <tr>\n",
       "      <th>18</th>\n",
       "      <td>Brooklyn</td>\n",
       "      <td>7</td>\n",
       "      <td>Sunset Park, Windsor Terrace</td>\n",
       "      <td>111607</td>\n",
       "      <td>98567</td>\n",
       "      <td>102553</td>\n",
       "      <td>120063</td>\n",
       "      <td>126230</td>\n",
       "    </tr>\n",
       "    <tr>\n",
       "      <th>19</th>\n",
       "      <td>Brooklyn</td>\n",
       "      <td>8</td>\n",
       "      <td>Crown Heights North</td>\n",
       "      <td>121821</td>\n",
       "      <td>88796</td>\n",
       "      <td>96400</td>\n",
       "      <td>96076</td>\n",
       "      <td>96317</td>\n",
       "    </tr>\n",
       "    <tr>\n",
       "      <th>20</th>\n",
       "      <td>Brooklyn</td>\n",
       "      <td>9</td>\n",
       "      <td>Crown Heights South, Wingate</td>\n",
       "      <td>101047</td>\n",
       "      <td>96669</td>\n",
       "      <td>110715</td>\n",
       "      <td>104014</td>\n",
       "      <td>98429</td>\n",
       "    </tr>\n",
       "    <tr>\n",
       "      <th>21</th>\n",
       "      <td>Brooklyn</td>\n",
       "      <td>10</td>\n",
       "      <td>Bay Ridge, Dyker Heights</td>\n",
       "      <td>129822</td>\n",
       "      <td>118187</td>\n",
       "      <td>110612</td>\n",
       "      <td>122542</td>\n",
       "      <td>124491</td>\n",
       "    </tr>\n",
       "    <tr>\n",
       "      <th>22</th>\n",
       "      <td>Brooklyn</td>\n",
       "      <td>11</td>\n",
       "      <td>Bensonhurst, Bath Beach</td>\n",
       "      <td>170119</td>\n",
       "      <td>155072</td>\n",
       "      <td>149994</td>\n",
       "      <td>172129</td>\n",
       "      <td>181981</td>\n",
       "    </tr>\n",
       "    <tr>\n",
       "      <th>23</th>\n",
       "      <td>Brooklyn</td>\n",
       "      <td>12</td>\n",
       "      <td>Borough Park, Ocean Parkway</td>\n",
       "      <td>166301</td>\n",
       "      <td>155899</td>\n",
       "      <td>160018</td>\n",
       "      <td>185046</td>\n",
       "      <td>191382</td>\n",
       "    </tr>\n",
       "    <tr>\n",
       "      <th>24</th>\n",
       "      <td>Brooklyn</td>\n",
       "      <td>13</td>\n",
       "      <td>Coney Island, Brighton Beach</td>\n",
       "      <td>97750</td>\n",
       "      <td>100030</td>\n",
       "      <td>102596</td>\n",
       "      <td>106120</td>\n",
       "      <td>104278</td>\n",
       "    </tr>\n",
       "    <tr>\n",
       "      <th>25</th>\n",
       "      <td>Brooklyn</td>\n",
       "      <td>14</td>\n",
       "      <td>Flatbush, Midwood</td>\n",
       "      <td>137041</td>\n",
       "      <td>143859</td>\n",
       "      <td>159825</td>\n",
       "      <td>168806</td>\n",
       "      <td>160664</td>\n",
       "    </tr>\n",
       "    <tr>\n",
       "      <th>26</th>\n",
       "      <td>Brooklyn</td>\n",
       "      <td>15</td>\n",
       "      <td>Sheepshead Bay, Gerritsen Beach</td>\n",
       "      <td>164815</td>\n",
       "      <td>149572</td>\n",
       "      <td>143477</td>\n",
       "      <td>160319</td>\n",
       "      <td>159650</td>\n",
       "    </tr>\n",
       "    <tr>\n",
       "      <th>27</th>\n",
       "      <td>Brooklyn</td>\n",
       "      <td>16</td>\n",
       "      <td>Brownsville, Ocean Hill</td>\n",
       "      <td>122589</td>\n",
       "      <td>73801</td>\n",
       "      <td>84923</td>\n",
       "      <td>85343</td>\n",
       "      <td>86468</td>\n",
       "    </tr>\n",
       "    <tr>\n",
       "      <th>28</th>\n",
       "      <td>Brooklyn</td>\n",
       "      <td>17</td>\n",
       "      <td>East Flatbush, Rugby, Farragut</td>\n",
       "      <td>149496</td>\n",
       "      <td>154596</td>\n",
       "      <td>161261</td>\n",
       "      <td>165753</td>\n",
       "      <td>155252</td>\n",
       "    </tr>\n",
       "    <tr>\n",
       "      <th>29</th>\n",
       "      <td>Brooklyn</td>\n",
       "      <td>18</td>\n",
       "      <td>Canarsie, Flatlands</td>\n",
       "      <td>188643</td>\n",
       "      <td>169092</td>\n",
       "      <td>162428</td>\n",
       "      <td>194653</td>\n",
       "      <td>193543</td>\n",
       "    </tr>\n",
       "    <tr>\n",
       "      <th>30</th>\n",
       "      <td>Manhattan</td>\n",
       "      <td>1</td>\n",
       "      <td>Battery Park City, Tribeca</td>\n",
       "      <td>7706</td>\n",
       "      <td>15918</td>\n",
       "      <td>25366</td>\n",
       "      <td>34420</td>\n",
       "      <td>60978</td>\n",
       "    </tr>\n",
       "    <tr>\n",
       "      <th>31</th>\n",
       "      <td>Manhattan</td>\n",
       "      <td>2</td>\n",
       "      <td>Greenwich Village, Soho</td>\n",
       "      <td>84337</td>\n",
       "      <td>87069</td>\n",
       "      <td>94105</td>\n",
       "      <td>93119</td>\n",
       "      <td>90016</td>\n",
       "    </tr>\n",
       "    <tr>\n",
       "      <th>32</th>\n",
       "      <td>Manhattan</td>\n",
       "      <td>3</td>\n",
       "      <td>Lower East Side, Chinatown</td>\n",
       "      <td>181845</td>\n",
       "      <td>154848</td>\n",
       "      <td>161617</td>\n",
       "      <td>164407</td>\n",
       "      <td>163277</td>\n",
       "    </tr>\n",
       "    <tr>\n",
       "      <th>33</th>\n",
       "      <td>Manhattan</td>\n",
       "      <td>4</td>\n",
       "      <td>Chelsea, Clinton</td>\n",
       "      <td>83601</td>\n",
       "      <td>82164</td>\n",
       "      <td>84431</td>\n",
       "      <td>87479</td>\n",
       "      <td>103245</td>\n",
       "    </tr>\n",
       "    <tr>\n",
       "      <th>34</th>\n",
       "      <td>Manhattan</td>\n",
       "      <td>5</td>\n",
       "      <td>Midtown Business District</td>\n",
       "      <td>31076</td>\n",
       "      <td>39544</td>\n",
       "      <td>43507</td>\n",
       "      <td>44028</td>\n",
       "      <td>51673</td>\n",
       "    </tr>\n",
       "    <tr>\n",
       "      <th>35</th>\n",
       "      <td>Manhattan</td>\n",
       "      <td>6</td>\n",
       "      <td>Stuyvesant Town, Turtle Bay</td>\n",
       "      <td>122465</td>\n",
       "      <td>127554</td>\n",
       "      <td>133748</td>\n",
       "      <td>136152</td>\n",
       "      <td>142745</td>\n",
       "    </tr>\n",
       "    <tr>\n",
       "      <th>36</th>\n",
       "      <td>Manhattan</td>\n",
       "      <td>7</td>\n",
       "      <td>West Side, Upper West Side</td>\n",
       "      <td>212422</td>\n",
       "      <td>206669</td>\n",
       "      <td>210993</td>\n",
       "      <td>207699</td>\n",
       "      <td>209084</td>\n",
       "    </tr>\n",
       "    <tr>\n",
       "      <th>37</th>\n",
       "      <td>Manhattan</td>\n",
       "      <td>8</td>\n",
       "      <td>Upper East Side</td>\n",
       "      <td>200851</td>\n",
       "      <td>204305</td>\n",
       "      <td>210880</td>\n",
       "      <td>217063</td>\n",
       "      <td>219920</td>\n",
       "    </tr>\n",
       "    <tr>\n",
       "      <th>38</th>\n",
       "      <td>Manhattan</td>\n",
       "      <td>9</td>\n",
       "      <td>Manhattanville, Hamilton Heights</td>\n",
       "      <td>113606</td>\n",
       "      <td>103038</td>\n",
       "      <td>106978</td>\n",
       "      <td>111724</td>\n",
       "      <td>110193</td>\n",
       "    </tr>\n",
       "    <tr>\n",
       "      <th>39</th>\n",
       "      <td>Manhattan</td>\n",
       "      <td>10</td>\n",
       "      <td>Central Harlem</td>\n",
       "      <td>159267</td>\n",
       "      <td>105641</td>\n",
       "      <td>99519</td>\n",
       "      <td>107109</td>\n",
       "      <td>115723</td>\n",
       "    </tr>\n",
       "    <tr>\n",
       "      <th>40</th>\n",
       "      <td>Manhattan</td>\n",
       "      <td>11</td>\n",
       "      <td>East Harlem</td>\n",
       "      <td>154662</td>\n",
       "      <td>114569</td>\n",
       "      <td>110508</td>\n",
       "      <td>117743</td>\n",
       "      <td>120511</td>\n",
       "    </tr>\n",
       "    <tr>\n",
       "      <th>41</th>\n",
       "      <td>Manhattan</td>\n",
       "      <td>12</td>\n",
       "      <td>Washington Heights, Inwood</td>\n",
       "      <td>180561</td>\n",
       "      <td>179941</td>\n",
       "      <td>198192</td>\n",
       "      <td>208414</td>\n",
       "      <td>190020</td>\n",
       "    </tr>\n",
       "    <tr>\n",
       "      <th>42</th>\n",
       "      <td>Queens</td>\n",
       "      <td>1</td>\n",
       "      <td>Astoria, Long Island City</td>\n",
       "      <td>185925</td>\n",
       "      <td>185198</td>\n",
       "      <td>188549</td>\n",
       "      <td>211220</td>\n",
       "      <td>191105</td>\n",
       "    </tr>\n",
       "    <tr>\n",
       "      <th>43</th>\n",
       "      <td>Queens</td>\n",
       "      <td>2</td>\n",
       "      <td>Sunnyside, Woodside</td>\n",
       "      <td>95073</td>\n",
       "      <td>88927</td>\n",
       "      <td>94845</td>\n",
       "      <td>109920</td>\n",
       "      <td>113200</td>\n",
       "    </tr>\n",
       "    <tr>\n",
       "      <th>44</th>\n",
       "      <td>Queens</td>\n",
       "      <td>3</td>\n",
       "      <td>Jackson Heights, North Corona</td>\n",
       "      <td>123635</td>\n",
       "      <td>122090</td>\n",
       "      <td>128924</td>\n",
       "      <td>169083</td>\n",
       "      <td>171576</td>\n",
       "    </tr>\n",
       "    <tr>\n",
       "      <th>45</th>\n",
       "      <td>Queens</td>\n",
       "      <td>4</td>\n",
       "      <td>Elmhurst, South Corona</td>\n",
       "      <td>108233</td>\n",
       "      <td>118430</td>\n",
       "      <td>137023</td>\n",
       "      <td>167005</td>\n",
       "      <td>172598</td>\n",
       "    </tr>\n",
       "    <tr>\n",
       "      <th>46</th>\n",
       "      <td>Queens</td>\n",
       "      <td>5</td>\n",
       "      <td>Ridgewood, Glendale, Maspeth</td>\n",
       "      <td>161022</td>\n",
       "      <td>150142</td>\n",
       "      <td>149126</td>\n",
       "      <td>165911</td>\n",
       "      <td>169190</td>\n",
       "    </tr>\n",
       "    <tr>\n",
       "      <th>47</th>\n",
       "      <td>Queens</td>\n",
       "      <td>6</td>\n",
       "      <td>Forest Hills, Rego Park</td>\n",
       "      <td>120429</td>\n",
       "      <td>112245</td>\n",
       "      <td>106996</td>\n",
       "      <td>115967</td>\n",
       "      <td>113257</td>\n",
       "    </tr>\n",
       "    <tr>\n",
       "      <th>48</th>\n",
       "      <td>Queens</td>\n",
       "      <td>7</td>\n",
       "      <td>Flushing, Bay Terrace</td>\n",
       "      <td>207589</td>\n",
       "      <td>204785</td>\n",
       "      <td>220508</td>\n",
       "      <td>242952</td>\n",
       "      <td>247354</td>\n",
       "    </tr>\n",
       "    <tr>\n",
       "      <th>49</th>\n",
       "      <td>Queens</td>\n",
       "      <td>8</td>\n",
       "      <td>Fresh Meadows, Briarwood</td>\n",
       "      <td>142468</td>\n",
       "      <td>125312</td>\n",
       "      <td>132101</td>\n",
       "      <td>146594</td>\n",
       "      <td>151107</td>\n",
       "    </tr>\n",
       "    <tr>\n",
       "      <th>50</th>\n",
       "      <td>Queens</td>\n",
       "      <td>9</td>\n",
       "      <td>Woodhaven, Richmond Hill</td>\n",
       "      <td>110367</td>\n",
       "      <td>109505</td>\n",
       "      <td>112151</td>\n",
       "      <td>141608</td>\n",
       "      <td>143317</td>\n",
       "    </tr>\n",
       "    <tr>\n",
       "      <th>51</th>\n",
       "      <td>Queens</td>\n",
       "      <td>10</td>\n",
       "      <td>Ozone Park, Howard Beach</td>\n",
       "      <td>113857</td>\n",
       "      <td>105651</td>\n",
       "      <td>107768</td>\n",
       "      <td>127274</td>\n",
       "      <td>122396</td>\n",
       "    </tr>\n",
       "    <tr>\n",
       "      <th>52</th>\n",
       "      <td>Queens</td>\n",
       "      <td>11</td>\n",
       "      <td>Bayside, Douglaston, Little Neck</td>\n",
       "      <td>127883</td>\n",
       "      <td>110963</td>\n",
       "      <td>108056</td>\n",
       "      <td>116404</td>\n",
       "      <td>116431</td>\n",
       "    </tr>\n",
       "    <tr>\n",
       "      <th>53</th>\n",
       "      <td>Queens</td>\n",
       "      <td>12</td>\n",
       "      <td>Jamaica, St. Albans, Hollis</td>\n",
       "      <td>206639</td>\n",
       "      <td>189383</td>\n",
       "      <td>201293</td>\n",
       "      <td>223602</td>\n",
       "      <td>225919</td>\n",
       "    </tr>\n",
       "    <tr>\n",
       "      <th>54</th>\n",
       "      <td>Queens</td>\n",
       "      <td>13</td>\n",
       "      <td>Queens Village, Rosedale</td>\n",
       "      <td>184647</td>\n",
       "      <td>173178</td>\n",
       "      <td>177535</td>\n",
       "      <td>196284</td>\n",
       "      <td>188593</td>\n",
       "    </tr>\n",
       "    <tr>\n",
       "      <th>55</th>\n",
       "      <td>Queens</td>\n",
       "      <td>14</td>\n",
       "      <td>The Rockaways, Broad Channel</td>\n",
       "      <td>98228</td>\n",
       "      <td>100592</td>\n",
       "      <td>100596</td>\n",
       "      <td>106686</td>\n",
       "      <td>114978</td>\n",
       "    </tr>\n",
       "    <tr>\n",
       "      <th>56</th>\n",
       "      <td>Staten Island</td>\n",
       "      <td>1</td>\n",
       "      <td>Stapleton, Port Richmond</td>\n",
       "      <td>135875</td>\n",
       "      <td>138489</td>\n",
       "      <td>137806</td>\n",
       "      <td>162609</td>\n",
       "      <td>175756</td>\n",
       "    </tr>\n",
       "    <tr>\n",
       "      <th>57</th>\n",
       "      <td>Staten Island</td>\n",
       "      <td>2</td>\n",
       "      <td>New Springville, South Beach</td>\n",
       "      <td>85985</td>\n",
       "      <td>105128</td>\n",
       "      <td>113944</td>\n",
       "      <td>127071</td>\n",
       "      <td>132003</td>\n",
       "    </tr>\n",
       "    <tr>\n",
       "      <th>58</th>\n",
       "      <td>Staten Island</td>\n",
       "      <td>3</td>\n",
       "      <td>Tottenville, Woodrow, Great Kills</td>\n",
       "      <td>72815</td>\n",
       "      <td>108249</td>\n",
       "      <td>126956</td>\n",
       "      <td>152908</td>\n",
       "      <td>160209</td>\n",
       "    </tr>\n",
       "  </tbody>\n",
       "</table>\n",
       "</div>"
      ],
      "text/plain": [
       "          Borough  CD Number                              CD Name  \\\n",
       "0           Bronx          1     Melrose, Mott Haven, Port Morris   \n",
       "1           Bronx          2                Hunts Point, Longwood   \n",
       "2           Bronx          3        Morrisania, Crotona Park East   \n",
       "3           Bronx          4        Highbridge, Concourse Village   \n",
       "4           Bronx          5   University Hts., Fordham, Mt. Hope   \n",
       "5           Bronx          6                East Tremont, Belmont   \n",
       "6           Bronx          7       Bedford Park, Norwood, Fordham   \n",
       "7           Bronx          8  Riverdale, Kingsbridge, Marble Hill   \n",
       "8           Bronx          9               Soundview, Parkchester   \n",
       "9           Bronx         10   Throgs Nk., Co-op City, Pelham Bay   \n",
       "10          Bronx         11    Pelham Pkwy, Morris Park, Laconia   \n",
       "11          Bronx         12            Wakefield, Williamsbridge   \n",
       "12       Brooklyn          1             Williamsburg, Greenpoint   \n",
       "13       Brooklyn          2        Brooklyn Heights, Fort Greene   \n",
       "14       Brooklyn          3                   Bedford Stuyvesant   \n",
       "15       Brooklyn          4                             Bushwick   \n",
       "16       Brooklyn          5         East New York, Starrett City   \n",
       "17       Brooklyn          6          Park Slope, Carroll Gardens   \n",
       "18       Brooklyn          7         Sunset Park, Windsor Terrace   \n",
       "19       Brooklyn          8                  Crown Heights North   \n",
       "20       Brooklyn          9         Crown Heights South, Wingate   \n",
       "21       Brooklyn         10             Bay Ridge, Dyker Heights   \n",
       "22       Brooklyn         11             Bensonhurst, Bath Beach    \n",
       "23       Brooklyn         12          Borough Park, Ocean Parkway   \n",
       "24       Brooklyn         13         Coney Island, Brighton Beach   \n",
       "25       Brooklyn         14                    Flatbush, Midwood   \n",
       "26       Brooklyn         15      Sheepshead Bay, Gerritsen Beach   \n",
       "27       Brooklyn         16              Brownsville, Ocean Hill   \n",
       "28       Brooklyn         17       East Flatbush, Rugby, Farragut   \n",
       "29       Brooklyn         18                  Canarsie, Flatlands   \n",
       "30      Manhattan          1           Battery Park City, Tribeca   \n",
       "31      Manhattan          2              Greenwich Village, Soho   \n",
       "32      Manhattan          3           Lower East Side, Chinatown   \n",
       "33      Manhattan          4                     Chelsea, Clinton   \n",
       "34      Manhattan          5            Midtown Business District   \n",
       "35      Manhattan          6          Stuyvesant Town, Turtle Bay   \n",
       "36      Manhattan          7           West Side, Upper West Side   \n",
       "37      Manhattan          8                      Upper East Side   \n",
       "38      Manhattan          9     Manhattanville, Hamilton Heights   \n",
       "39      Manhattan         10                       Central Harlem   \n",
       "40      Manhattan         11                          East Harlem   \n",
       "41      Manhattan         12           Washington Heights, Inwood   \n",
       "42         Queens          1            Astoria, Long Island City   \n",
       "43         Queens          2                  Sunnyside, Woodside   \n",
       "44         Queens          3        Jackson Heights, North Corona   \n",
       "45         Queens          4               Elmhurst, South Corona   \n",
       "46         Queens          5         Ridgewood, Glendale, Maspeth   \n",
       "47         Queens          6              Forest Hills, Rego Park   \n",
       "48         Queens          7                Flushing, Bay Terrace   \n",
       "49         Queens          8             Fresh Meadows, Briarwood   \n",
       "50         Queens          9             Woodhaven, Richmond Hill   \n",
       "51         Queens         10             Ozone Park, Howard Beach   \n",
       "52         Queens         11     Bayside, Douglaston, Little Neck   \n",
       "53         Queens         12          Jamaica, St. Albans, Hollis   \n",
       "54         Queens         13             Queens Village, Rosedale   \n",
       "55         Queens         14         The Rockaways, Broad Channel   \n",
       "56  Staten Island          1             Stapleton, Port Richmond   \n",
       "57  Staten Island          2         New Springville, South Beach   \n",
       "58  Staten Island          3    Tottenville, Woodrow, Great Kills   \n",
       "\n",
       "    1970 Population  1980 Population  1990 Population  2000 Population  \\\n",
       "0            138557            78441            77214            82159   \n",
       "1             99493            34399            39443            46824   \n",
       "2            150636            53635            57162            68574   \n",
       "3            144207           114312           119962           139563   \n",
       "4            121807           107995           118435           128313   \n",
       "5            114137            65016            68061            75688   \n",
       "6            113764           116827           128588           141411   \n",
       "7            103543            98275            97030           101332   \n",
       "8            166442           167627           155970           167859   \n",
       "9             84948           106516           108093           115948   \n",
       "10           105980            99080            97842           110706   \n",
       "11           135010           128226           129620           149077   \n",
       "12           179390           142942           155972           160338   \n",
       "13           110221            92732            94534            98620   \n",
       "14           203380           133379           138696           143867   \n",
       "15           137902            92497           102572           104358   \n",
       "16           170791           154931           161350           173198   \n",
       "17           138933           110228           102724           104054   \n",
       "18           111607            98567           102553           120063   \n",
       "19           121821            88796            96400            96076   \n",
       "20           101047            96669           110715           104014   \n",
       "21           129822           118187           110612           122542   \n",
       "22           170119           155072           149994           172129   \n",
       "23           166301           155899           160018           185046   \n",
       "24            97750           100030           102596           106120   \n",
       "25           137041           143859           159825           168806   \n",
       "26           164815           149572           143477           160319   \n",
       "27           122589            73801            84923            85343   \n",
       "28           149496           154596           161261           165753   \n",
       "29           188643           169092           162428           194653   \n",
       "30             7706            15918            25366            34420   \n",
       "31            84337            87069            94105            93119   \n",
       "32           181845           154848           161617           164407   \n",
       "33            83601            82164            84431            87479   \n",
       "34            31076            39544            43507            44028   \n",
       "35           122465           127554           133748           136152   \n",
       "36           212422           206669           210993           207699   \n",
       "37           200851           204305           210880           217063   \n",
       "38           113606           103038           106978           111724   \n",
       "39           159267           105641            99519           107109   \n",
       "40           154662           114569           110508           117743   \n",
       "41           180561           179941           198192           208414   \n",
       "42           185925           185198           188549           211220   \n",
       "43            95073            88927            94845           109920   \n",
       "44           123635           122090           128924           169083   \n",
       "45           108233           118430           137023           167005   \n",
       "46           161022           150142           149126           165911   \n",
       "47           120429           112245           106996           115967   \n",
       "48           207589           204785           220508           242952   \n",
       "49           142468           125312           132101           146594   \n",
       "50           110367           109505           112151           141608   \n",
       "51           113857           105651           107768           127274   \n",
       "52           127883           110963           108056           116404   \n",
       "53           206639           189383           201293           223602   \n",
       "54           184647           173178           177535           196284   \n",
       "55            98228           100592           100596           106686   \n",
       "56           135875           138489           137806           162609   \n",
       "57            85985           105128           113944           127071   \n",
       "58            72815           108249           126956           152908   \n",
       "\n",
       "    2010 Population  \n",
       "0             91497  \n",
       "1             52246  \n",
       "2             79762  \n",
       "3            146441  \n",
       "4            128200  \n",
       "5             83268  \n",
       "6            139286  \n",
       "7            101731  \n",
       "8            172298  \n",
       "9            120392  \n",
       "10           113232  \n",
       "11           152344  \n",
       "12           173083  \n",
       "13            99617  \n",
       "14           152985  \n",
       "15           112634  \n",
       "16           182896  \n",
       "17           104709  \n",
       "18           126230  \n",
       "19            96317  \n",
       "20            98429  \n",
       "21           124491  \n",
       "22           181981  \n",
       "23           191382  \n",
       "24           104278  \n",
       "25           160664  \n",
       "26           159650  \n",
       "27            86468  \n",
       "28           155252  \n",
       "29           193543  \n",
       "30            60978  \n",
       "31            90016  \n",
       "32           163277  \n",
       "33           103245  \n",
       "34            51673  \n",
       "35           142745  \n",
       "36           209084  \n",
       "37           219920  \n",
       "38           110193  \n",
       "39           115723  \n",
       "40           120511  \n",
       "41           190020  \n",
       "42           191105  \n",
       "43           113200  \n",
       "44           171576  \n",
       "45           172598  \n",
       "46           169190  \n",
       "47           113257  \n",
       "48           247354  \n",
       "49           151107  \n",
       "50           143317  \n",
       "51           122396  \n",
       "52           116431  \n",
       "53           225919  \n",
       "54           188593  \n",
       "55           114978  \n",
       "56           175756  \n",
       "57           132003  \n",
       "58           160209  "
      ]
     },
     "execution_count": 76,
     "metadata": {},
     "output_type": "execute_result"
    }
   ],
   "source": [
    "import pandas as pd\n",
    "\n",
    "df = pd.read_csv('https://data.cityofnewyork.us/api/views/xi7c-iiu2/rows.csv')\n",
    "df"
   ]
  },
  {
   "cell_type": "markdown",
   "metadata": {},
   "source": [
    "## Step 2\n",
    "\n",
    "Prepare the data. Use the following function to [reshape](https://pandas.pydata.org/pandas-docs/stable/user_guide/reshaping.html) the DataFrame to have one row per community district per Census year."
   ]
  },
  {
   "cell_type": "code",
   "execution_count": 82,
   "metadata": {},
   "outputs": [
    {
     "data": {
      "text/html": [
       "<div>\n",
       "<style scoped>\n",
       "    .dataframe tbody tr th:only-of-type {\n",
       "        vertical-align: middle;\n",
       "    }\n",
       "\n",
       "    .dataframe tbody tr th {\n",
       "        vertical-align: top;\n",
       "    }\n",
       "\n",
       "    .dataframe thead th {\n",
       "        text-align: right;\n",
       "    }\n",
       "</style>\n",
       "<table border=\"1\" class=\"dataframe\">\n",
       "  <thead>\n",
       "    <tr style=\"text-align: right;\">\n",
       "      <th></th>\n",
       "      <th>Borough</th>\n",
       "      <th>CD Number</th>\n",
       "      <th>CD Name</th>\n",
       "      <th>year</th>\n",
       "      <th>population</th>\n",
       "    </tr>\n",
       "  </thead>\n",
       "  <tbody>\n",
       "    <tr>\n",
       "      <th>0</th>\n",
       "      <td>Bronx</td>\n",
       "      <td>1</td>\n",
       "      <td>Melrose, Mott Haven, Port Morris</td>\n",
       "      <td>1970</td>\n",
       "      <td>138557</td>\n",
       "    </tr>\n",
       "    <tr>\n",
       "      <th>1</th>\n",
       "      <td>Bronx</td>\n",
       "      <td>2</td>\n",
       "      <td>Hunts Point, Longwood</td>\n",
       "      <td>1970</td>\n",
       "      <td>99493</td>\n",
       "    </tr>\n",
       "    <tr>\n",
       "      <th>2</th>\n",
       "      <td>Bronx</td>\n",
       "      <td>3</td>\n",
       "      <td>Morrisania, Crotona Park East</td>\n",
       "      <td>1970</td>\n",
       "      <td>150636</td>\n",
       "    </tr>\n",
       "    <tr>\n",
       "      <th>3</th>\n",
       "      <td>Bronx</td>\n",
       "      <td>4</td>\n",
       "      <td>Highbridge, Concourse Village</td>\n",
       "      <td>1970</td>\n",
       "      <td>144207</td>\n",
       "    </tr>\n",
       "    <tr>\n",
       "      <th>4</th>\n",
       "      <td>Bronx</td>\n",
       "      <td>5</td>\n",
       "      <td>University Hts., Fordham, Mt. Hope</td>\n",
       "      <td>1970</td>\n",
       "      <td>121807</td>\n",
       "    </tr>\n",
       "    <tr>\n",
       "      <th>...</th>\n",
       "      <td>...</td>\n",
       "      <td>...</td>\n",
       "      <td>...</td>\n",
       "      <td>...</td>\n",
       "      <td>...</td>\n",
       "    </tr>\n",
       "    <tr>\n",
       "      <th>290</th>\n",
       "      <td>Queens</td>\n",
       "      <td>13</td>\n",
       "      <td>Queens Village, Rosedale</td>\n",
       "      <td>2010</td>\n",
       "      <td>188593</td>\n",
       "    </tr>\n",
       "    <tr>\n",
       "      <th>291</th>\n",
       "      <td>Queens</td>\n",
       "      <td>14</td>\n",
       "      <td>The Rockaways, Broad Channel</td>\n",
       "      <td>2010</td>\n",
       "      <td>114978</td>\n",
       "    </tr>\n",
       "    <tr>\n",
       "      <th>292</th>\n",
       "      <td>Staten Island</td>\n",
       "      <td>1</td>\n",
       "      <td>Stapleton, Port Richmond</td>\n",
       "      <td>2010</td>\n",
       "      <td>175756</td>\n",
       "    </tr>\n",
       "    <tr>\n",
       "      <th>293</th>\n",
       "      <td>Staten Island</td>\n",
       "      <td>2</td>\n",
       "      <td>New Springville, South Beach</td>\n",
       "      <td>2010</td>\n",
       "      <td>132003</td>\n",
       "    </tr>\n",
       "    <tr>\n",
       "      <th>294</th>\n",
       "      <td>Staten Island</td>\n",
       "      <td>3</td>\n",
       "      <td>Tottenville, Woodrow, Great Kills</td>\n",
       "      <td>2010</td>\n",
       "      <td>160209</td>\n",
       "    </tr>\n",
       "  </tbody>\n",
       "</table>\n",
       "<p>295 rows × 5 columns</p>\n",
       "</div>"
      ],
      "text/plain": [
       "           Borough  CD Number                             CD Name  year  \\\n",
       "0            Bronx          1    Melrose, Mott Haven, Port Morris  1970   \n",
       "1            Bronx          2               Hunts Point, Longwood  1970   \n",
       "2            Bronx          3       Morrisania, Crotona Park East  1970   \n",
       "3            Bronx          4       Highbridge, Concourse Village  1970   \n",
       "4            Bronx          5  University Hts., Fordham, Mt. Hope  1970   \n",
       "..             ...        ...                                 ...   ...   \n",
       "290         Queens         13            Queens Village, Rosedale  2010   \n",
       "291         Queens         14        The Rockaways, Broad Channel  2010   \n",
       "292  Staten Island          1            Stapleton, Port Richmond  2010   \n",
       "293  Staten Island          2        New Springville, South Beach  2010   \n",
       "294  Staten Island          3   Tottenville, Woodrow, Great Kills  2010   \n",
       "\n",
       "     population  \n",
       "0        138557  \n",
       "1         99493  \n",
       "2        150636  \n",
       "3        144207  \n",
       "4        121807  \n",
       "..          ...  \n",
       "290      188593  \n",
       "291      114978  \n",
       "292      175756  \n",
       "293      132003  \n",
       "294      160209  \n",
       "\n",
       "[295 rows x 5 columns]"
      ]
     },
     "execution_count": 82,
     "metadata": {},
     "output_type": "execute_result"
    }
   ],
   "source": [
    "# turn the population columns into rows\n",
    "populations = pd.melt(df, id_vars=['Borough', 'CD Number', 'CD Name'], var_name='year', value_name='population')\n",
    "\n",
    "# turn the years into numbers\n",
    "populations.year = populations.year.str.replace(' Population', '').astype(int)\n",
    "\n",
    "populations"
   ]
  },
  {
   "cell_type": "markdown",
   "metadata": {},
   "source": [
    "## Step 3\n",
    "\n",
    "Create a new `manhattan` DataFrame that has only the populations for that borough."
   ]
  },
  {
   "cell_type": "code",
   "execution_count": 90,
   "metadata": {},
   "outputs": [],
   "source": [
    "manhattan = populations[populations.Borough == 'Manhattan']"
   ]
  },
  {
   "cell_type": "markdown",
   "metadata": {},
   "source": [
    "## Step 4\n",
    "\n",
    "Create a line chart of the population over time for each community district in Manhattan. There should be one line for each.\n",
    "\n",
    "See the Plotly [Line Plot with column encoding color](https://plotly.com/python/line-charts/#line-plot-with-column-encoding-color) examples."
   ]
  },
  {
   "cell_type": "code",
   "execution_count": 91,
   "metadata": {},
   "outputs": [
    {
     "data": {
      "application/vnd.plotly.v1+json": {
       "config": {
        "plotlyServerURL": "https://plot.ly"
       },
       "data": [
        {
         "hovertemplate": "CD Name=Battery Park City, Tribeca<br>year=%{x}<br>population=%{y}<extra></extra>",
         "legendgroup": "Battery Park City, Tribeca",
         "line": {
          "color": "#636efa",
          "dash": "solid"
         },
         "mode": "lines",
         "name": "Battery Park City, Tribeca",
         "showlegend": true,
         "type": "scatter",
         "x": [
          1970,
          1980,
          1990,
          2000,
          2010
         ],
         "xaxis": "x",
         "y": [
          7706,
          15918,
          25366,
          34420,
          60978
         ],
         "yaxis": "y"
        },
        {
         "hovertemplate": "CD Name=Greenwich Village, Soho<br>year=%{x}<br>population=%{y}<extra></extra>",
         "legendgroup": "Greenwich Village, Soho",
         "line": {
          "color": "#EF553B",
          "dash": "solid"
         },
         "mode": "lines",
         "name": "Greenwich Village, Soho",
         "showlegend": true,
         "type": "scatter",
         "x": [
          1970,
          1980,
          1990,
          2000,
          2010
         ],
         "xaxis": "x",
         "y": [
          84337,
          87069,
          94105,
          93119,
          90016
         ],
         "yaxis": "y"
        },
        {
         "hovertemplate": "CD Name=Lower East Side, Chinatown<br>year=%{x}<br>population=%{y}<extra></extra>",
         "legendgroup": "Lower East Side, Chinatown",
         "line": {
          "color": "#00cc96",
          "dash": "solid"
         },
         "mode": "lines",
         "name": "Lower East Side, Chinatown",
         "showlegend": true,
         "type": "scatter",
         "x": [
          1970,
          1980,
          1990,
          2000,
          2010
         ],
         "xaxis": "x",
         "y": [
          181845,
          154848,
          161617,
          164407,
          163277
         ],
         "yaxis": "y"
        },
        {
         "hovertemplate": "CD Name=Chelsea, Clinton<br>year=%{x}<br>population=%{y}<extra></extra>",
         "legendgroup": "Chelsea, Clinton",
         "line": {
          "color": "#ab63fa",
          "dash": "solid"
         },
         "mode": "lines",
         "name": "Chelsea, Clinton",
         "showlegend": true,
         "type": "scatter",
         "x": [
          1970,
          1980,
          1990,
          2000,
          2010
         ],
         "xaxis": "x",
         "y": [
          83601,
          82164,
          84431,
          87479,
          103245
         ],
         "yaxis": "y"
        },
        {
         "hovertemplate": "CD Name=Midtown Business District<br>year=%{x}<br>population=%{y}<extra></extra>",
         "legendgroup": "Midtown Business District",
         "line": {
          "color": "#FFA15A",
          "dash": "solid"
         },
         "mode": "lines",
         "name": "Midtown Business District",
         "showlegend": true,
         "type": "scatter",
         "x": [
          1970,
          1980,
          1990,
          2000,
          2010
         ],
         "xaxis": "x",
         "y": [
          31076,
          39544,
          43507,
          44028,
          51673
         ],
         "yaxis": "y"
        },
        {
         "hovertemplate": "CD Name=Stuyvesant Town, Turtle Bay<br>year=%{x}<br>population=%{y}<extra></extra>",
         "legendgroup": "Stuyvesant Town, Turtle Bay",
         "line": {
          "color": "#19d3f3",
          "dash": "solid"
         },
         "mode": "lines",
         "name": "Stuyvesant Town, Turtle Bay",
         "showlegend": true,
         "type": "scatter",
         "x": [
          1970,
          1980,
          1990,
          2000,
          2010
         ],
         "xaxis": "x",
         "y": [
          122465,
          127554,
          133748,
          136152,
          142745
         ],
         "yaxis": "y"
        },
        {
         "hovertemplate": "CD Name=West Side, Upper West Side<br>year=%{x}<br>population=%{y}<extra></extra>",
         "legendgroup": "West Side, Upper West Side",
         "line": {
          "color": "#FF6692",
          "dash": "solid"
         },
         "mode": "lines",
         "name": "West Side, Upper West Side",
         "showlegend": true,
         "type": "scatter",
         "x": [
          1970,
          1980,
          1990,
          2000,
          2010
         ],
         "xaxis": "x",
         "y": [
          212422,
          206669,
          210993,
          207699,
          209084
         ],
         "yaxis": "y"
        },
        {
         "hovertemplate": "CD Name=Upper East Side<br>year=%{x}<br>population=%{y}<extra></extra>",
         "legendgroup": "Upper East Side",
         "line": {
          "color": "#B6E880",
          "dash": "solid"
         },
         "mode": "lines",
         "name": "Upper East Side",
         "showlegend": true,
         "type": "scatter",
         "x": [
          1970,
          1980,
          1990,
          2000,
          2010
         ],
         "xaxis": "x",
         "y": [
          200851,
          204305,
          210880,
          217063,
          219920
         ],
         "yaxis": "y"
        },
        {
         "hovertemplate": "CD Name=Manhattanville, Hamilton Heights<br>year=%{x}<br>population=%{y}<extra></extra>",
         "legendgroup": "Manhattanville, Hamilton Heights",
         "line": {
          "color": "#FF97FF",
          "dash": "solid"
         },
         "mode": "lines",
         "name": "Manhattanville, Hamilton Heights",
         "showlegend": true,
         "type": "scatter",
         "x": [
          1970,
          1980,
          1990,
          2000,
          2010
         ],
         "xaxis": "x",
         "y": [
          113606,
          103038,
          106978,
          111724,
          110193
         ],
         "yaxis": "y"
        },
        {
         "hovertemplate": "CD Name=Central Harlem<br>year=%{x}<br>population=%{y}<extra></extra>",
         "legendgroup": "Central Harlem",
         "line": {
          "color": "#FECB52",
          "dash": "solid"
         },
         "mode": "lines",
         "name": "Central Harlem",
         "showlegend": true,
         "type": "scatter",
         "x": [
          1970,
          1980,
          1990,
          2000,
          2010
         ],
         "xaxis": "x",
         "y": [
          159267,
          105641,
          99519,
          107109,
          115723
         ],
         "yaxis": "y"
        },
        {
         "hovertemplate": "CD Name=East Harlem<br>year=%{x}<br>population=%{y}<extra></extra>",
         "legendgroup": "East Harlem",
         "line": {
          "color": "#636efa",
          "dash": "solid"
         },
         "mode": "lines",
         "name": "East Harlem",
         "showlegend": true,
         "type": "scatter",
         "x": [
          1970,
          1980,
          1990,
          2000,
          2010
         ],
         "xaxis": "x",
         "y": [
          154662,
          114569,
          110508,
          117743,
          120511
         ],
         "yaxis": "y"
        },
        {
         "hovertemplate": "CD Name=Washington Heights, Inwood<br>year=%{x}<br>population=%{y}<extra></extra>",
         "legendgroup": "Washington Heights, Inwood",
         "line": {
          "color": "#EF553B",
          "dash": "solid"
         },
         "mode": "lines",
         "name": "Washington Heights, Inwood",
         "showlegend": true,
         "type": "scatter",
         "x": [
          1970,
          1980,
          1990,
          2000,
          2010
         ],
         "xaxis": "x",
         "y": [
          180561,
          179941,
          198192,
          208414,
          190020
         ],
         "yaxis": "y"
        }
       ],
       "layout": {
        "legend": {
         "title": {
          "text": "CD Name"
         },
         "tracegroupgap": 0
        },
        "margin": {
         "t": 60
        },
        "template": {
         "data": {
          "bar": [
           {
            "error_x": {
             "color": "#2a3f5f"
            },
            "error_y": {
             "color": "#2a3f5f"
            },
            "marker": {
             "line": {
              "color": "#E5ECF6",
              "width": 0.5
             }
            },
            "type": "bar"
           }
          ],
          "barpolar": [
           {
            "marker": {
             "line": {
              "color": "#E5ECF6",
              "width": 0.5
             }
            },
            "type": "barpolar"
           }
          ],
          "carpet": [
           {
            "aaxis": {
             "endlinecolor": "#2a3f5f",
             "gridcolor": "white",
             "linecolor": "white",
             "minorgridcolor": "white",
             "startlinecolor": "#2a3f5f"
            },
            "baxis": {
             "endlinecolor": "#2a3f5f",
             "gridcolor": "white",
             "linecolor": "white",
             "minorgridcolor": "white",
             "startlinecolor": "#2a3f5f"
            },
            "type": "carpet"
           }
          ],
          "choropleth": [
           {
            "colorbar": {
             "outlinewidth": 0,
             "ticks": ""
            },
            "type": "choropleth"
           }
          ],
          "contour": [
           {
            "colorbar": {
             "outlinewidth": 0,
             "ticks": ""
            },
            "colorscale": [
             [
              0,
              "#0d0887"
             ],
             [
              0.1111111111111111,
              "#46039f"
             ],
             [
              0.2222222222222222,
              "#7201a8"
             ],
             [
              0.3333333333333333,
              "#9c179e"
             ],
             [
              0.4444444444444444,
              "#bd3786"
             ],
             [
              0.5555555555555556,
              "#d8576b"
             ],
             [
              0.6666666666666666,
              "#ed7953"
             ],
             [
              0.7777777777777778,
              "#fb9f3a"
             ],
             [
              0.8888888888888888,
              "#fdca26"
             ],
             [
              1,
              "#f0f921"
             ]
            ],
            "type": "contour"
           }
          ],
          "contourcarpet": [
           {
            "colorbar": {
             "outlinewidth": 0,
             "ticks": ""
            },
            "type": "contourcarpet"
           }
          ],
          "heatmap": [
           {
            "colorbar": {
             "outlinewidth": 0,
             "ticks": ""
            },
            "colorscale": [
             [
              0,
              "#0d0887"
             ],
             [
              0.1111111111111111,
              "#46039f"
             ],
             [
              0.2222222222222222,
              "#7201a8"
             ],
             [
              0.3333333333333333,
              "#9c179e"
             ],
             [
              0.4444444444444444,
              "#bd3786"
             ],
             [
              0.5555555555555556,
              "#d8576b"
             ],
             [
              0.6666666666666666,
              "#ed7953"
             ],
             [
              0.7777777777777778,
              "#fb9f3a"
             ],
             [
              0.8888888888888888,
              "#fdca26"
             ],
             [
              1,
              "#f0f921"
             ]
            ],
            "type": "heatmap"
           }
          ],
          "heatmapgl": [
           {
            "colorbar": {
             "outlinewidth": 0,
             "ticks": ""
            },
            "colorscale": [
             [
              0,
              "#0d0887"
             ],
             [
              0.1111111111111111,
              "#46039f"
             ],
             [
              0.2222222222222222,
              "#7201a8"
             ],
             [
              0.3333333333333333,
              "#9c179e"
             ],
             [
              0.4444444444444444,
              "#bd3786"
             ],
             [
              0.5555555555555556,
              "#d8576b"
             ],
             [
              0.6666666666666666,
              "#ed7953"
             ],
             [
              0.7777777777777778,
              "#fb9f3a"
             ],
             [
              0.8888888888888888,
              "#fdca26"
             ],
             [
              1,
              "#f0f921"
             ]
            ],
            "type": "heatmapgl"
           }
          ],
          "histogram": [
           {
            "marker": {
             "colorbar": {
              "outlinewidth": 0,
              "ticks": ""
             }
            },
            "type": "histogram"
           }
          ],
          "histogram2d": [
           {
            "colorbar": {
             "outlinewidth": 0,
             "ticks": ""
            },
            "colorscale": [
             [
              0,
              "#0d0887"
             ],
             [
              0.1111111111111111,
              "#46039f"
             ],
             [
              0.2222222222222222,
              "#7201a8"
             ],
             [
              0.3333333333333333,
              "#9c179e"
             ],
             [
              0.4444444444444444,
              "#bd3786"
             ],
             [
              0.5555555555555556,
              "#d8576b"
             ],
             [
              0.6666666666666666,
              "#ed7953"
             ],
             [
              0.7777777777777778,
              "#fb9f3a"
             ],
             [
              0.8888888888888888,
              "#fdca26"
             ],
             [
              1,
              "#f0f921"
             ]
            ],
            "type": "histogram2d"
           }
          ],
          "histogram2dcontour": [
           {
            "colorbar": {
             "outlinewidth": 0,
             "ticks": ""
            },
            "colorscale": [
             [
              0,
              "#0d0887"
             ],
             [
              0.1111111111111111,
              "#46039f"
             ],
             [
              0.2222222222222222,
              "#7201a8"
             ],
             [
              0.3333333333333333,
              "#9c179e"
             ],
             [
              0.4444444444444444,
              "#bd3786"
             ],
             [
              0.5555555555555556,
              "#d8576b"
             ],
             [
              0.6666666666666666,
              "#ed7953"
             ],
             [
              0.7777777777777778,
              "#fb9f3a"
             ],
             [
              0.8888888888888888,
              "#fdca26"
             ],
             [
              1,
              "#f0f921"
             ]
            ],
            "type": "histogram2dcontour"
           }
          ],
          "mesh3d": [
           {
            "colorbar": {
             "outlinewidth": 0,
             "ticks": ""
            },
            "type": "mesh3d"
           }
          ],
          "parcoords": [
           {
            "line": {
             "colorbar": {
              "outlinewidth": 0,
              "ticks": ""
             }
            },
            "type": "parcoords"
           }
          ],
          "pie": [
           {
            "automargin": true,
            "type": "pie"
           }
          ],
          "scatter": [
           {
            "marker": {
             "colorbar": {
              "outlinewidth": 0,
              "ticks": ""
             }
            },
            "type": "scatter"
           }
          ],
          "scatter3d": [
           {
            "line": {
             "colorbar": {
              "outlinewidth": 0,
              "ticks": ""
             }
            },
            "marker": {
             "colorbar": {
              "outlinewidth": 0,
              "ticks": ""
             }
            },
            "type": "scatter3d"
           }
          ],
          "scattercarpet": [
           {
            "marker": {
             "colorbar": {
              "outlinewidth": 0,
              "ticks": ""
             }
            },
            "type": "scattercarpet"
           }
          ],
          "scattergeo": [
           {
            "marker": {
             "colorbar": {
              "outlinewidth": 0,
              "ticks": ""
             }
            },
            "type": "scattergeo"
           }
          ],
          "scattergl": [
           {
            "marker": {
             "colorbar": {
              "outlinewidth": 0,
              "ticks": ""
             }
            },
            "type": "scattergl"
           }
          ],
          "scattermapbox": [
           {
            "marker": {
             "colorbar": {
              "outlinewidth": 0,
              "ticks": ""
             }
            },
            "type": "scattermapbox"
           }
          ],
          "scatterpolar": [
           {
            "marker": {
             "colorbar": {
              "outlinewidth": 0,
              "ticks": ""
             }
            },
            "type": "scatterpolar"
           }
          ],
          "scatterpolargl": [
           {
            "marker": {
             "colorbar": {
              "outlinewidth": 0,
              "ticks": ""
             }
            },
            "type": "scatterpolargl"
           }
          ],
          "scatterternary": [
           {
            "marker": {
             "colorbar": {
              "outlinewidth": 0,
              "ticks": ""
             }
            },
            "type": "scatterternary"
           }
          ],
          "surface": [
           {
            "colorbar": {
             "outlinewidth": 0,
             "ticks": ""
            },
            "colorscale": [
             [
              0,
              "#0d0887"
             ],
             [
              0.1111111111111111,
              "#46039f"
             ],
             [
              0.2222222222222222,
              "#7201a8"
             ],
             [
              0.3333333333333333,
              "#9c179e"
             ],
             [
              0.4444444444444444,
              "#bd3786"
             ],
             [
              0.5555555555555556,
              "#d8576b"
             ],
             [
              0.6666666666666666,
              "#ed7953"
             ],
             [
              0.7777777777777778,
              "#fb9f3a"
             ],
             [
              0.8888888888888888,
              "#fdca26"
             ],
             [
              1,
              "#f0f921"
             ]
            ],
            "type": "surface"
           }
          ],
          "table": [
           {
            "cells": {
             "fill": {
              "color": "#EBF0F8"
             },
             "line": {
              "color": "white"
             }
            },
            "header": {
             "fill": {
              "color": "#C8D4E3"
             },
             "line": {
              "color": "white"
             }
            },
            "type": "table"
           }
          ]
         },
         "layout": {
          "annotationdefaults": {
           "arrowcolor": "#2a3f5f",
           "arrowhead": 0,
           "arrowwidth": 1
          },
          "coloraxis": {
           "colorbar": {
            "outlinewidth": 0,
            "ticks": ""
           }
          },
          "colorscale": {
           "diverging": [
            [
             0,
             "#8e0152"
            ],
            [
             0.1,
             "#c51b7d"
            ],
            [
             0.2,
             "#de77ae"
            ],
            [
             0.3,
             "#f1b6da"
            ],
            [
             0.4,
             "#fde0ef"
            ],
            [
             0.5,
             "#f7f7f7"
            ],
            [
             0.6,
             "#e6f5d0"
            ],
            [
             0.7,
             "#b8e186"
            ],
            [
             0.8,
             "#7fbc41"
            ],
            [
             0.9,
             "#4d9221"
            ],
            [
             1,
             "#276419"
            ]
           ],
           "sequential": [
            [
             0,
             "#0d0887"
            ],
            [
             0.1111111111111111,
             "#46039f"
            ],
            [
             0.2222222222222222,
             "#7201a8"
            ],
            [
             0.3333333333333333,
             "#9c179e"
            ],
            [
             0.4444444444444444,
             "#bd3786"
            ],
            [
             0.5555555555555556,
             "#d8576b"
            ],
            [
             0.6666666666666666,
             "#ed7953"
            ],
            [
             0.7777777777777778,
             "#fb9f3a"
            ],
            [
             0.8888888888888888,
             "#fdca26"
            ],
            [
             1,
             "#f0f921"
            ]
           ],
           "sequentialminus": [
            [
             0,
             "#0d0887"
            ],
            [
             0.1111111111111111,
             "#46039f"
            ],
            [
             0.2222222222222222,
             "#7201a8"
            ],
            [
             0.3333333333333333,
             "#9c179e"
            ],
            [
             0.4444444444444444,
             "#bd3786"
            ],
            [
             0.5555555555555556,
             "#d8576b"
            ],
            [
             0.6666666666666666,
             "#ed7953"
            ],
            [
             0.7777777777777778,
             "#fb9f3a"
            ],
            [
             0.8888888888888888,
             "#fdca26"
            ],
            [
             1,
             "#f0f921"
            ]
           ]
          },
          "colorway": [
           "#636efa",
           "#EF553B",
           "#00cc96",
           "#ab63fa",
           "#FFA15A",
           "#19d3f3",
           "#FF6692",
           "#B6E880",
           "#FF97FF",
           "#FECB52"
          ],
          "font": {
           "color": "#2a3f5f"
          },
          "geo": {
           "bgcolor": "white",
           "lakecolor": "white",
           "landcolor": "#E5ECF6",
           "showlakes": true,
           "showland": true,
           "subunitcolor": "white"
          },
          "hoverlabel": {
           "align": "left"
          },
          "hovermode": "closest",
          "mapbox": {
           "style": "light"
          },
          "paper_bgcolor": "white",
          "plot_bgcolor": "#E5ECF6",
          "polar": {
           "angularaxis": {
            "gridcolor": "white",
            "linecolor": "white",
            "ticks": ""
           },
           "bgcolor": "#E5ECF6",
           "radialaxis": {
            "gridcolor": "white",
            "linecolor": "white",
            "ticks": ""
           }
          },
          "scene": {
           "xaxis": {
            "backgroundcolor": "#E5ECF6",
            "gridcolor": "white",
            "gridwidth": 2,
            "linecolor": "white",
            "showbackground": true,
            "ticks": "",
            "zerolinecolor": "white"
           },
           "yaxis": {
            "backgroundcolor": "#E5ECF6",
            "gridcolor": "white",
            "gridwidth": 2,
            "linecolor": "white",
            "showbackground": true,
            "ticks": "",
            "zerolinecolor": "white"
           },
           "zaxis": {
            "backgroundcolor": "#E5ECF6",
            "gridcolor": "white",
            "gridwidth": 2,
            "linecolor": "white",
            "showbackground": true,
            "ticks": "",
            "zerolinecolor": "white"
           }
          },
          "shapedefaults": {
           "line": {
            "color": "#2a3f5f"
           }
          },
          "ternary": {
           "aaxis": {
            "gridcolor": "white",
            "linecolor": "white",
            "ticks": ""
           },
           "baxis": {
            "gridcolor": "white",
            "linecolor": "white",
            "ticks": ""
           },
           "bgcolor": "#E5ECF6",
           "caxis": {
            "gridcolor": "white",
            "linecolor": "white",
            "ticks": ""
           }
          },
          "title": {
           "x": 0.05
          },
          "xaxis": {
           "automargin": true,
           "gridcolor": "white",
           "linecolor": "white",
           "ticks": "",
           "title": {
            "standoff": 15
           },
           "zerolinecolor": "white",
           "zerolinewidth": 2
          },
          "yaxis": {
           "automargin": true,
           "gridcolor": "white",
           "linecolor": "white",
           "ticks": "",
           "title": {
            "standoff": 15
           },
           "zerolinecolor": "white",
           "zerolinewidth": 2
          }
         }
        },
        "xaxis": {
         "anchor": "y",
         "domain": [
          0,
          1
         ],
         "title": {
          "text": "year"
         }
        },
        "yaxis": {
         "anchor": "x",
         "domain": [
          0,
          1
         ],
         "title": {
          "text": "population"
         }
        }
       }
      },
      "text/html": [
       "<div>\n",
       "        \n",
       "        \n",
       "            <div id=\"2f8cdd8d-6309-49c1-a263-ba05a0d60a8a\" class=\"plotly-graph-div\" style=\"height:525px; width:100%;\"></div>\n",
       "            <script type=\"text/javascript\">\n",
       "                require([\"plotly\"], function(Plotly) {\n",
       "                    window.PLOTLYENV=window.PLOTLYENV || {};\n",
       "                    \n",
       "                if (document.getElementById(\"2f8cdd8d-6309-49c1-a263-ba05a0d60a8a\")) {\n",
       "                    Plotly.newPlot(\n",
       "                        '2f8cdd8d-6309-49c1-a263-ba05a0d60a8a',\n",
       "                        [{\"hovertemplate\": \"CD Name=Battery Park City, Tribeca<br>year=%{x}<br>population=%{y}<extra></extra>\", \"legendgroup\": \"Battery Park City, Tribeca\", \"line\": {\"color\": \"#636efa\", \"dash\": \"solid\"}, \"mode\": \"lines\", \"name\": \"Battery Park City, Tribeca\", \"showlegend\": true, \"type\": \"scatter\", \"x\": [1970, 1980, 1990, 2000, 2010], \"xaxis\": \"x\", \"y\": [7706, 15918, 25366, 34420, 60978], \"yaxis\": \"y\"}, {\"hovertemplate\": \"CD Name=Greenwich Village, Soho<br>year=%{x}<br>population=%{y}<extra></extra>\", \"legendgroup\": \"Greenwich Village, Soho\", \"line\": {\"color\": \"#EF553B\", \"dash\": \"solid\"}, \"mode\": \"lines\", \"name\": \"Greenwich Village, Soho\", \"showlegend\": true, \"type\": \"scatter\", \"x\": [1970, 1980, 1990, 2000, 2010], \"xaxis\": \"x\", \"y\": [84337, 87069, 94105, 93119, 90016], \"yaxis\": \"y\"}, {\"hovertemplate\": \"CD Name=Lower East Side, Chinatown<br>year=%{x}<br>population=%{y}<extra></extra>\", \"legendgroup\": \"Lower East Side, Chinatown\", \"line\": {\"color\": \"#00cc96\", \"dash\": \"solid\"}, \"mode\": \"lines\", \"name\": \"Lower East Side, Chinatown\", \"showlegend\": true, \"type\": \"scatter\", \"x\": [1970, 1980, 1990, 2000, 2010], \"xaxis\": \"x\", \"y\": [181845, 154848, 161617, 164407, 163277], \"yaxis\": \"y\"}, {\"hovertemplate\": \"CD Name=Chelsea, Clinton<br>year=%{x}<br>population=%{y}<extra></extra>\", \"legendgroup\": \"Chelsea, Clinton\", \"line\": {\"color\": \"#ab63fa\", \"dash\": \"solid\"}, \"mode\": \"lines\", \"name\": \"Chelsea, Clinton\", \"showlegend\": true, \"type\": \"scatter\", \"x\": [1970, 1980, 1990, 2000, 2010], \"xaxis\": \"x\", \"y\": [83601, 82164, 84431, 87479, 103245], \"yaxis\": \"y\"}, {\"hovertemplate\": \"CD Name=Midtown Business District<br>year=%{x}<br>population=%{y}<extra></extra>\", \"legendgroup\": \"Midtown Business District\", \"line\": {\"color\": \"#FFA15A\", \"dash\": \"solid\"}, \"mode\": \"lines\", \"name\": \"Midtown Business District\", \"showlegend\": true, \"type\": \"scatter\", \"x\": [1970, 1980, 1990, 2000, 2010], \"xaxis\": \"x\", \"y\": [31076, 39544, 43507, 44028, 51673], \"yaxis\": \"y\"}, {\"hovertemplate\": \"CD Name=Stuyvesant Town, Turtle Bay<br>year=%{x}<br>population=%{y}<extra></extra>\", \"legendgroup\": \"Stuyvesant Town, Turtle Bay\", \"line\": {\"color\": \"#19d3f3\", \"dash\": \"solid\"}, \"mode\": \"lines\", \"name\": \"Stuyvesant Town, Turtle Bay\", \"showlegend\": true, \"type\": \"scatter\", \"x\": [1970, 1980, 1990, 2000, 2010], \"xaxis\": \"x\", \"y\": [122465, 127554, 133748, 136152, 142745], \"yaxis\": \"y\"}, {\"hovertemplate\": \"CD Name=West Side, Upper West Side<br>year=%{x}<br>population=%{y}<extra></extra>\", \"legendgroup\": \"West Side, Upper West Side\", \"line\": {\"color\": \"#FF6692\", \"dash\": \"solid\"}, \"mode\": \"lines\", \"name\": \"West Side, Upper West Side\", \"showlegend\": true, \"type\": \"scatter\", \"x\": [1970, 1980, 1990, 2000, 2010], \"xaxis\": \"x\", \"y\": [212422, 206669, 210993, 207699, 209084], \"yaxis\": \"y\"}, {\"hovertemplate\": \"CD Name=Upper East Side<br>year=%{x}<br>population=%{y}<extra></extra>\", \"legendgroup\": \"Upper East Side\", \"line\": {\"color\": \"#B6E880\", \"dash\": \"solid\"}, \"mode\": \"lines\", \"name\": \"Upper East Side\", \"showlegend\": true, \"type\": \"scatter\", \"x\": [1970, 1980, 1990, 2000, 2010], \"xaxis\": \"x\", \"y\": [200851, 204305, 210880, 217063, 219920], \"yaxis\": \"y\"}, {\"hovertemplate\": \"CD Name=Manhattanville, Hamilton Heights<br>year=%{x}<br>population=%{y}<extra></extra>\", \"legendgroup\": \"Manhattanville, Hamilton Heights\", \"line\": {\"color\": \"#FF97FF\", \"dash\": \"solid\"}, \"mode\": \"lines\", \"name\": \"Manhattanville, Hamilton Heights\", \"showlegend\": true, \"type\": \"scatter\", \"x\": [1970, 1980, 1990, 2000, 2010], \"xaxis\": \"x\", \"y\": [113606, 103038, 106978, 111724, 110193], \"yaxis\": \"y\"}, {\"hovertemplate\": \"CD Name=Central Harlem<br>year=%{x}<br>population=%{y}<extra></extra>\", \"legendgroup\": \"Central Harlem\", \"line\": {\"color\": \"#FECB52\", \"dash\": \"solid\"}, \"mode\": \"lines\", \"name\": \"Central Harlem\", \"showlegend\": true, \"type\": \"scatter\", \"x\": [1970, 1980, 1990, 2000, 2010], \"xaxis\": \"x\", \"y\": [159267, 105641, 99519, 107109, 115723], \"yaxis\": \"y\"}, {\"hovertemplate\": \"CD Name=East Harlem<br>year=%{x}<br>population=%{y}<extra></extra>\", \"legendgroup\": \"East Harlem\", \"line\": {\"color\": \"#636efa\", \"dash\": \"solid\"}, \"mode\": \"lines\", \"name\": \"East Harlem\", \"showlegend\": true, \"type\": \"scatter\", \"x\": [1970, 1980, 1990, 2000, 2010], \"xaxis\": \"x\", \"y\": [154662, 114569, 110508, 117743, 120511], \"yaxis\": \"y\"}, {\"hovertemplate\": \"CD Name=Washington Heights, Inwood<br>year=%{x}<br>population=%{y}<extra></extra>\", \"legendgroup\": \"Washington Heights, Inwood\", \"line\": {\"color\": \"#EF553B\", \"dash\": \"solid\"}, \"mode\": \"lines\", \"name\": \"Washington Heights, Inwood\", \"showlegend\": true, \"type\": \"scatter\", \"x\": [1970, 1980, 1990, 2000, 2010], \"xaxis\": \"x\", \"y\": [180561, 179941, 198192, 208414, 190020], \"yaxis\": \"y\"}],\n",
       "                        {\"legend\": {\"title\": {\"text\": \"CD Name\"}, \"tracegroupgap\": 0}, \"margin\": {\"t\": 60}, \"template\": {\"data\": {\"bar\": [{\"error_x\": {\"color\": \"#2a3f5f\"}, \"error_y\": {\"color\": \"#2a3f5f\"}, \"marker\": {\"line\": {\"color\": \"#E5ECF6\", \"width\": 0.5}}, \"type\": \"bar\"}], \"barpolar\": [{\"marker\": {\"line\": {\"color\": \"#E5ECF6\", \"width\": 0.5}}, \"type\": \"barpolar\"}], \"carpet\": [{\"aaxis\": {\"endlinecolor\": \"#2a3f5f\", \"gridcolor\": \"white\", \"linecolor\": \"white\", \"minorgridcolor\": \"white\", \"startlinecolor\": \"#2a3f5f\"}, \"baxis\": {\"endlinecolor\": \"#2a3f5f\", \"gridcolor\": \"white\", \"linecolor\": \"white\", \"minorgridcolor\": \"white\", \"startlinecolor\": \"#2a3f5f\"}, \"type\": \"carpet\"}], \"choropleth\": [{\"colorbar\": {\"outlinewidth\": 0, \"ticks\": \"\"}, \"type\": \"choropleth\"}], \"contour\": [{\"colorbar\": {\"outlinewidth\": 0, \"ticks\": \"\"}, \"colorscale\": [[0.0, \"#0d0887\"], [0.1111111111111111, \"#46039f\"], [0.2222222222222222, \"#7201a8\"], [0.3333333333333333, \"#9c179e\"], [0.4444444444444444, \"#bd3786\"], [0.5555555555555556, \"#d8576b\"], [0.6666666666666666, \"#ed7953\"], [0.7777777777777778, \"#fb9f3a\"], [0.8888888888888888, \"#fdca26\"], [1.0, \"#f0f921\"]], \"type\": \"contour\"}], \"contourcarpet\": [{\"colorbar\": {\"outlinewidth\": 0, \"ticks\": \"\"}, \"type\": \"contourcarpet\"}], \"heatmap\": [{\"colorbar\": {\"outlinewidth\": 0, \"ticks\": \"\"}, \"colorscale\": [[0.0, \"#0d0887\"], [0.1111111111111111, \"#46039f\"], [0.2222222222222222, \"#7201a8\"], [0.3333333333333333, \"#9c179e\"], [0.4444444444444444, \"#bd3786\"], [0.5555555555555556, \"#d8576b\"], [0.6666666666666666, \"#ed7953\"], [0.7777777777777778, \"#fb9f3a\"], [0.8888888888888888, \"#fdca26\"], [1.0, \"#f0f921\"]], \"type\": \"heatmap\"}], \"heatmapgl\": [{\"colorbar\": {\"outlinewidth\": 0, \"ticks\": \"\"}, \"colorscale\": [[0.0, \"#0d0887\"], [0.1111111111111111, \"#46039f\"], [0.2222222222222222, \"#7201a8\"], [0.3333333333333333, \"#9c179e\"], [0.4444444444444444, \"#bd3786\"], [0.5555555555555556, \"#d8576b\"], [0.6666666666666666, \"#ed7953\"], [0.7777777777777778, \"#fb9f3a\"], [0.8888888888888888, \"#fdca26\"], [1.0, \"#f0f921\"]], \"type\": \"heatmapgl\"}], \"histogram\": [{\"marker\": {\"colorbar\": {\"outlinewidth\": 0, \"ticks\": \"\"}}, \"type\": \"histogram\"}], \"histogram2d\": [{\"colorbar\": {\"outlinewidth\": 0, \"ticks\": \"\"}, \"colorscale\": [[0.0, \"#0d0887\"], [0.1111111111111111, \"#46039f\"], [0.2222222222222222, \"#7201a8\"], [0.3333333333333333, \"#9c179e\"], [0.4444444444444444, \"#bd3786\"], [0.5555555555555556, \"#d8576b\"], [0.6666666666666666, \"#ed7953\"], [0.7777777777777778, \"#fb9f3a\"], [0.8888888888888888, \"#fdca26\"], [1.0, \"#f0f921\"]], \"type\": \"histogram2d\"}], \"histogram2dcontour\": [{\"colorbar\": {\"outlinewidth\": 0, \"ticks\": \"\"}, \"colorscale\": [[0.0, \"#0d0887\"], [0.1111111111111111, \"#46039f\"], [0.2222222222222222, \"#7201a8\"], [0.3333333333333333, \"#9c179e\"], [0.4444444444444444, \"#bd3786\"], [0.5555555555555556, \"#d8576b\"], [0.6666666666666666, \"#ed7953\"], [0.7777777777777778, \"#fb9f3a\"], [0.8888888888888888, \"#fdca26\"], [1.0, \"#f0f921\"]], \"type\": \"histogram2dcontour\"}], \"mesh3d\": [{\"colorbar\": {\"outlinewidth\": 0, \"ticks\": \"\"}, \"type\": \"mesh3d\"}], \"parcoords\": [{\"line\": {\"colorbar\": {\"outlinewidth\": 0, \"ticks\": \"\"}}, \"type\": \"parcoords\"}], \"pie\": [{\"automargin\": true, \"type\": \"pie\"}], \"scatter\": [{\"marker\": {\"colorbar\": {\"outlinewidth\": 0, \"ticks\": \"\"}}, \"type\": \"scatter\"}], \"scatter3d\": [{\"line\": {\"colorbar\": {\"outlinewidth\": 0, \"ticks\": \"\"}}, \"marker\": {\"colorbar\": {\"outlinewidth\": 0, \"ticks\": \"\"}}, \"type\": \"scatter3d\"}], \"scattercarpet\": [{\"marker\": {\"colorbar\": {\"outlinewidth\": 0, \"ticks\": \"\"}}, \"type\": \"scattercarpet\"}], \"scattergeo\": [{\"marker\": {\"colorbar\": {\"outlinewidth\": 0, \"ticks\": \"\"}}, \"type\": \"scattergeo\"}], \"scattergl\": [{\"marker\": {\"colorbar\": {\"outlinewidth\": 0, \"ticks\": \"\"}}, \"type\": \"scattergl\"}], \"scattermapbox\": [{\"marker\": {\"colorbar\": {\"outlinewidth\": 0, \"ticks\": \"\"}}, \"type\": \"scattermapbox\"}], \"scatterpolar\": [{\"marker\": {\"colorbar\": {\"outlinewidth\": 0, \"ticks\": \"\"}}, \"type\": \"scatterpolar\"}], \"scatterpolargl\": [{\"marker\": {\"colorbar\": {\"outlinewidth\": 0, \"ticks\": \"\"}}, \"type\": \"scatterpolargl\"}], \"scatterternary\": [{\"marker\": {\"colorbar\": {\"outlinewidth\": 0, \"ticks\": \"\"}}, \"type\": \"scatterternary\"}], \"surface\": [{\"colorbar\": {\"outlinewidth\": 0, \"ticks\": \"\"}, \"colorscale\": [[0.0, \"#0d0887\"], [0.1111111111111111, \"#46039f\"], [0.2222222222222222, \"#7201a8\"], [0.3333333333333333, \"#9c179e\"], [0.4444444444444444, \"#bd3786\"], [0.5555555555555556, \"#d8576b\"], [0.6666666666666666, \"#ed7953\"], [0.7777777777777778, \"#fb9f3a\"], [0.8888888888888888, \"#fdca26\"], [1.0, \"#f0f921\"]], \"type\": \"surface\"}], \"table\": [{\"cells\": {\"fill\": {\"color\": \"#EBF0F8\"}, \"line\": {\"color\": \"white\"}}, \"header\": {\"fill\": {\"color\": \"#C8D4E3\"}, \"line\": {\"color\": \"white\"}}, \"type\": \"table\"}]}, \"layout\": {\"annotationdefaults\": {\"arrowcolor\": \"#2a3f5f\", \"arrowhead\": 0, \"arrowwidth\": 1}, \"coloraxis\": {\"colorbar\": {\"outlinewidth\": 0, \"ticks\": \"\"}}, \"colorscale\": {\"diverging\": [[0, \"#8e0152\"], [0.1, \"#c51b7d\"], [0.2, \"#de77ae\"], [0.3, \"#f1b6da\"], [0.4, \"#fde0ef\"], [0.5, \"#f7f7f7\"], [0.6, \"#e6f5d0\"], [0.7, \"#b8e186\"], [0.8, \"#7fbc41\"], [0.9, \"#4d9221\"], [1, \"#276419\"]], \"sequential\": [[0.0, \"#0d0887\"], [0.1111111111111111, \"#46039f\"], [0.2222222222222222, \"#7201a8\"], [0.3333333333333333, \"#9c179e\"], [0.4444444444444444, \"#bd3786\"], [0.5555555555555556, \"#d8576b\"], [0.6666666666666666, \"#ed7953\"], [0.7777777777777778, \"#fb9f3a\"], [0.8888888888888888, \"#fdca26\"], [1.0, \"#f0f921\"]], \"sequentialminus\": [[0.0, \"#0d0887\"], [0.1111111111111111, \"#46039f\"], [0.2222222222222222, \"#7201a8\"], [0.3333333333333333, \"#9c179e\"], [0.4444444444444444, \"#bd3786\"], [0.5555555555555556, \"#d8576b\"], [0.6666666666666666, \"#ed7953\"], [0.7777777777777778, \"#fb9f3a\"], [0.8888888888888888, \"#fdca26\"], [1.0, \"#f0f921\"]]}, \"colorway\": [\"#636efa\", \"#EF553B\", \"#00cc96\", \"#ab63fa\", \"#FFA15A\", \"#19d3f3\", \"#FF6692\", \"#B6E880\", \"#FF97FF\", \"#FECB52\"], \"font\": {\"color\": \"#2a3f5f\"}, \"geo\": {\"bgcolor\": \"white\", \"lakecolor\": \"white\", \"landcolor\": \"#E5ECF6\", \"showlakes\": true, \"showland\": true, \"subunitcolor\": \"white\"}, \"hoverlabel\": {\"align\": \"left\"}, \"hovermode\": \"closest\", \"mapbox\": {\"style\": \"light\"}, \"paper_bgcolor\": \"white\", \"plot_bgcolor\": \"#E5ECF6\", \"polar\": {\"angularaxis\": {\"gridcolor\": \"white\", \"linecolor\": \"white\", \"ticks\": \"\"}, \"bgcolor\": \"#E5ECF6\", \"radialaxis\": {\"gridcolor\": \"white\", \"linecolor\": \"white\", \"ticks\": \"\"}}, \"scene\": {\"xaxis\": {\"backgroundcolor\": \"#E5ECF6\", \"gridcolor\": \"white\", \"gridwidth\": 2, \"linecolor\": \"white\", \"showbackground\": true, \"ticks\": \"\", \"zerolinecolor\": \"white\"}, \"yaxis\": {\"backgroundcolor\": \"#E5ECF6\", \"gridcolor\": \"white\", \"gridwidth\": 2, \"linecolor\": \"white\", \"showbackground\": true, \"ticks\": \"\", \"zerolinecolor\": \"white\"}, \"zaxis\": {\"backgroundcolor\": \"#E5ECF6\", \"gridcolor\": \"white\", \"gridwidth\": 2, \"linecolor\": \"white\", \"showbackground\": true, \"ticks\": \"\", \"zerolinecolor\": \"white\"}}, \"shapedefaults\": {\"line\": {\"color\": \"#2a3f5f\"}}, \"ternary\": {\"aaxis\": {\"gridcolor\": \"white\", \"linecolor\": \"white\", \"ticks\": \"\"}, \"baxis\": {\"gridcolor\": \"white\", \"linecolor\": \"white\", \"ticks\": \"\"}, \"bgcolor\": \"#E5ECF6\", \"caxis\": {\"gridcolor\": \"white\", \"linecolor\": \"white\", \"ticks\": \"\"}}, \"title\": {\"x\": 0.05}, \"xaxis\": {\"automargin\": true, \"gridcolor\": \"white\", \"linecolor\": \"white\", \"ticks\": \"\", \"title\": {\"standoff\": 15}, \"zerolinecolor\": \"white\", \"zerolinewidth\": 2}, \"yaxis\": {\"automargin\": true, \"gridcolor\": \"white\", \"linecolor\": \"white\", \"ticks\": \"\", \"title\": {\"standoff\": 15}, \"zerolinecolor\": \"white\", \"zerolinewidth\": 2}}}, \"xaxis\": {\"anchor\": \"y\", \"domain\": [0.0, 1.0], \"title\": {\"text\": \"year\"}}, \"yaxis\": {\"anchor\": \"x\", \"domain\": [0.0, 1.0], \"title\": {\"text\": \"population\"}}},\n",
       "                        {\"responsive\": true}\n",
       "                    ).then(function(){\n",
       "                            \n",
       "var gd = document.getElementById('2f8cdd8d-6309-49c1-a263-ba05a0d60a8a');\n",
       "var x = new MutationObserver(function (mutations, observer) {{\n",
       "        var display = window.getComputedStyle(gd).display;\n",
       "        if (!display || display === 'none') {{\n",
       "            console.log([gd, 'removed!']);\n",
       "            Plotly.purge(gd);\n",
       "            observer.disconnect();\n",
       "        }}\n",
       "}});\n",
       "\n",
       "// Listen for the removal of the full notebook cells\n",
       "var notebookContainer = gd.closest('#notebook-container');\n",
       "if (notebookContainer) {{\n",
       "    x.observe(notebookContainer, {childList: true});\n",
       "}}\n",
       "\n",
       "// Listen for the clearing of the current output cell\n",
       "var outputEl = gd.closest('.output');\n",
       "if (outputEl) {{\n",
       "    x.observe(outputEl, {childList: true});\n",
       "}}\n",
       "\n",
       "                        })\n",
       "                };\n",
       "                });\n",
       "            </script>\n",
       "        </div>"
      ]
     },
     "metadata": {},
     "output_type": "display_data"
    }
   ],
   "source": [
    "import plotly.express as px\n",
    "\n",
    "fig = px.line(manhattan, x='year', y='population', color='CD Name')\n",
    "fig.show()"
   ]
  },
  {
   "cell_type": "markdown",
   "metadata": {},
   "source": [
    "## Step 5\n",
    "\n",
    "We are going to do some mapping, but to do so, we need `borocd`s. Create a `borocd` column on the `populations` DataFrame. (See [Lecture 2](https://colab.research.google.com/github/afeld/python-public-policy/blob/master/lecture_2.ipynb#scrollTo=Pq24B8pRC_FM).)"
   ]
  },
  {
   "cell_type": "code",
   "execution_count": 92,
   "metadata": {},
   "outputs": [
    {
     "data": {
      "text/html": [
       "<div>\n",
       "<style scoped>\n",
       "    .dataframe tbody tr th:only-of-type {\n",
       "        vertical-align: middle;\n",
       "    }\n",
       "\n",
       "    .dataframe tbody tr th {\n",
       "        vertical-align: top;\n",
       "    }\n",
       "\n",
       "    .dataframe thead th {\n",
       "        text-align: right;\n",
       "    }\n",
       "</style>\n",
       "<table border=\"1\" class=\"dataframe\">\n",
       "  <thead>\n",
       "    <tr style=\"text-align: right;\">\n",
       "      <th></th>\n",
       "      <th>Borough</th>\n",
       "      <th>CD Number</th>\n",
       "      <th>CD Name</th>\n",
       "      <th>year</th>\n",
       "      <th>population</th>\n",
       "      <th>borocd</th>\n",
       "    </tr>\n",
       "  </thead>\n",
       "  <tbody>\n",
       "    <tr>\n",
       "      <th>0</th>\n",
       "      <td>Bronx</td>\n",
       "      <td>1</td>\n",
       "      <td>Melrose, Mott Haven, Port Morris</td>\n",
       "      <td>1970</td>\n",
       "      <td>138557</td>\n",
       "      <td>201</td>\n",
       "    </tr>\n",
       "    <tr>\n",
       "      <th>1</th>\n",
       "      <td>Bronx</td>\n",
       "      <td>2</td>\n",
       "      <td>Hunts Point, Longwood</td>\n",
       "      <td>1970</td>\n",
       "      <td>99493</td>\n",
       "      <td>202</td>\n",
       "    </tr>\n",
       "    <tr>\n",
       "      <th>2</th>\n",
       "      <td>Bronx</td>\n",
       "      <td>3</td>\n",
       "      <td>Morrisania, Crotona Park East</td>\n",
       "      <td>1970</td>\n",
       "      <td>150636</td>\n",
       "      <td>203</td>\n",
       "    </tr>\n",
       "    <tr>\n",
       "      <th>3</th>\n",
       "      <td>Bronx</td>\n",
       "      <td>4</td>\n",
       "      <td>Highbridge, Concourse Village</td>\n",
       "      <td>1970</td>\n",
       "      <td>144207</td>\n",
       "      <td>204</td>\n",
       "    </tr>\n",
       "    <tr>\n",
       "      <th>4</th>\n",
       "      <td>Bronx</td>\n",
       "      <td>5</td>\n",
       "      <td>University Hts., Fordham, Mt. Hope</td>\n",
       "      <td>1970</td>\n",
       "      <td>121807</td>\n",
       "      <td>205</td>\n",
       "    </tr>\n",
       "    <tr>\n",
       "      <th>...</th>\n",
       "      <td>...</td>\n",
       "      <td>...</td>\n",
       "      <td>...</td>\n",
       "      <td>...</td>\n",
       "      <td>...</td>\n",
       "      <td>...</td>\n",
       "    </tr>\n",
       "    <tr>\n",
       "      <th>290</th>\n",
       "      <td>Queens</td>\n",
       "      <td>13</td>\n",
       "      <td>Queens Village, Rosedale</td>\n",
       "      <td>2010</td>\n",
       "      <td>188593</td>\n",
       "      <td>413</td>\n",
       "    </tr>\n",
       "    <tr>\n",
       "      <th>291</th>\n",
       "      <td>Queens</td>\n",
       "      <td>14</td>\n",
       "      <td>The Rockaways, Broad Channel</td>\n",
       "      <td>2010</td>\n",
       "      <td>114978</td>\n",
       "      <td>414</td>\n",
       "    </tr>\n",
       "    <tr>\n",
       "      <th>292</th>\n",
       "      <td>Staten Island</td>\n",
       "      <td>1</td>\n",
       "      <td>Stapleton, Port Richmond</td>\n",
       "      <td>2010</td>\n",
       "      <td>175756</td>\n",
       "      <td>501</td>\n",
       "    </tr>\n",
       "    <tr>\n",
       "      <th>293</th>\n",
       "      <td>Staten Island</td>\n",
       "      <td>2</td>\n",
       "      <td>New Springville, South Beach</td>\n",
       "      <td>2010</td>\n",
       "      <td>132003</td>\n",
       "      <td>502</td>\n",
       "    </tr>\n",
       "    <tr>\n",
       "      <th>294</th>\n",
       "      <td>Staten Island</td>\n",
       "      <td>3</td>\n",
       "      <td>Tottenville, Woodrow, Great Kills</td>\n",
       "      <td>2010</td>\n",
       "      <td>160209</td>\n",
       "      <td>503</td>\n",
       "    </tr>\n",
       "  </tbody>\n",
       "</table>\n",
       "<p>295 rows × 6 columns</p>\n",
       "</div>"
      ],
      "text/plain": [
       "           Borough  CD Number                             CD Name  year  \\\n",
       "0            Bronx          1    Melrose, Mott Haven, Port Morris  1970   \n",
       "1            Bronx          2               Hunts Point, Longwood  1970   \n",
       "2            Bronx          3       Morrisania, Crotona Park East  1970   \n",
       "3            Bronx          4       Highbridge, Concourse Village  1970   \n",
       "4            Bronx          5  University Hts., Fordham, Mt. Hope  1970   \n",
       "..             ...        ...                                 ...   ...   \n",
       "290         Queens         13            Queens Village, Rosedale  2010   \n",
       "291         Queens         14        The Rockaways, Broad Channel  2010   \n",
       "292  Staten Island          1            Stapleton, Port Richmond  2010   \n",
       "293  Staten Island          2        New Springville, South Beach  2010   \n",
       "294  Staten Island          3   Tottenville, Woodrow, Great Kills  2010   \n",
       "\n",
       "     population borocd  \n",
       "0        138557    201  \n",
       "1         99493    202  \n",
       "2        150636    203  \n",
       "3        144207    204  \n",
       "4        121807    205  \n",
       "..          ...    ...  \n",
       "290      188593    413  \n",
       "291      114978    414  \n",
       "292      175756    501  \n",
       "293      132003    502  \n",
       "294      160209    503  \n",
       "\n",
       "[295 rows x 6 columns]"
      ]
     },
     "execution_count": 92,
     "metadata": {},
     "output_type": "execute_result"
    }
   ],
   "source": [
    "def recode_borocd_pop(row):\n",
    "  if row.Borough == 'Manhattan':\n",
    "    return str(100 + row['CD Number'])\n",
    "  elif row.Borough == 'Bronx':\n",
    "    return str(200 + row['CD Number'])\n",
    "  elif row.Borough == 'Brooklyn':\n",
    "    return str(300 + row['CD Number'])\n",
    "  elif row.Borough == 'Queens':\n",
    "    return str(400 + row['CD Number'])\n",
    "  elif row.Borough == 'Staten Island':\n",
    "    return str(500 + row['CD Number'])\n",
    "  else:\n",
    "    return 'Invalid BoroCD'\n",
    "\n",
    "populations['borocd'] = populations.apply(recode_borocd_pop, axis=1)\n",
    "populations"
   ]
  },
  {
   "cell_type": "markdown",
   "metadata": {},
   "source": [
    "## Step 6\n",
    "\n",
    "Create a `change` column on the `populations` DataFrame with the difference between the 2000 and 2010 population counts, then print the DataFrame."
   ]
  },
  {
   "cell_type": "code",
   "execution_count": 68,
   "metadata": {},
   "outputs": [
    {
     "data": {
      "text/html": [
       "<div>\n",
       "<style scoped>\n",
       "    .dataframe tbody tr th:only-of-type {\n",
       "        vertical-align: middle;\n",
       "    }\n",
       "\n",
       "    .dataframe tbody tr th {\n",
       "        vertical-align: top;\n",
       "    }\n",
       "\n",
       "    .dataframe thead th {\n",
       "        text-align: right;\n",
       "    }\n",
       "</style>\n",
       "<table border=\"1\" class=\"dataframe\">\n",
       "  <thead>\n",
       "    <tr style=\"text-align: right;\">\n",
       "      <th></th>\n",
       "      <th>Borough</th>\n",
       "      <th>CD Number</th>\n",
       "      <th>CD Name</th>\n",
       "      <th>1970 Population</th>\n",
       "      <th>1980 Population</th>\n",
       "      <th>1990 Population</th>\n",
       "      <th>2000 Population</th>\n",
       "      <th>2010 Population</th>\n",
       "      <th>change</th>\n",
       "    </tr>\n",
       "  </thead>\n",
       "  <tbody>\n",
       "    <tr>\n",
       "      <th>0</th>\n",
       "      <td>Bronx</td>\n",
       "      <td>1</td>\n",
       "      <td>Melrose, Mott Haven, Port Morris</td>\n",
       "      <td>138557</td>\n",
       "      <td>78441</td>\n",
       "      <td>77214</td>\n",
       "      <td>82159</td>\n",
       "      <td>91497</td>\n",
       "      <td>9338</td>\n",
       "    </tr>\n",
       "    <tr>\n",
       "      <th>1</th>\n",
       "      <td>Bronx</td>\n",
       "      <td>2</td>\n",
       "      <td>Hunts Point, Longwood</td>\n",
       "      <td>99493</td>\n",
       "      <td>34399</td>\n",
       "      <td>39443</td>\n",
       "      <td>46824</td>\n",
       "      <td>52246</td>\n",
       "      <td>5422</td>\n",
       "    </tr>\n",
       "    <tr>\n",
       "      <th>2</th>\n",
       "      <td>Bronx</td>\n",
       "      <td>3</td>\n",
       "      <td>Morrisania, Crotona Park East</td>\n",
       "      <td>150636</td>\n",
       "      <td>53635</td>\n",
       "      <td>57162</td>\n",
       "      <td>68574</td>\n",
       "      <td>79762</td>\n",
       "      <td>11188</td>\n",
       "    </tr>\n",
       "    <tr>\n",
       "      <th>3</th>\n",
       "      <td>Bronx</td>\n",
       "      <td>4</td>\n",
       "      <td>Highbridge, Concourse Village</td>\n",
       "      <td>144207</td>\n",
       "      <td>114312</td>\n",
       "      <td>119962</td>\n",
       "      <td>139563</td>\n",
       "      <td>146441</td>\n",
       "      <td>6878</td>\n",
       "    </tr>\n",
       "    <tr>\n",
       "      <th>4</th>\n",
       "      <td>Bronx</td>\n",
       "      <td>5</td>\n",
       "      <td>University Hts., Fordham, Mt. Hope</td>\n",
       "      <td>121807</td>\n",
       "      <td>107995</td>\n",
       "      <td>118435</td>\n",
       "      <td>128313</td>\n",
       "      <td>128200</td>\n",
       "      <td>-113</td>\n",
       "    </tr>\n",
       "    <tr>\n",
       "      <th>5</th>\n",
       "      <td>Bronx</td>\n",
       "      <td>6</td>\n",
       "      <td>East Tremont, Belmont</td>\n",
       "      <td>114137</td>\n",
       "      <td>65016</td>\n",
       "      <td>68061</td>\n",
       "      <td>75688</td>\n",
       "      <td>83268</td>\n",
       "      <td>7580</td>\n",
       "    </tr>\n",
       "    <tr>\n",
       "      <th>6</th>\n",
       "      <td>Bronx</td>\n",
       "      <td>7</td>\n",
       "      <td>Bedford Park, Norwood, Fordham</td>\n",
       "      <td>113764</td>\n",
       "      <td>116827</td>\n",
       "      <td>128588</td>\n",
       "      <td>141411</td>\n",
       "      <td>139286</td>\n",
       "      <td>-2125</td>\n",
       "    </tr>\n",
       "    <tr>\n",
       "      <th>7</th>\n",
       "      <td>Bronx</td>\n",
       "      <td>8</td>\n",
       "      <td>Riverdale, Kingsbridge, Marble Hill</td>\n",
       "      <td>103543</td>\n",
       "      <td>98275</td>\n",
       "      <td>97030</td>\n",
       "      <td>101332</td>\n",
       "      <td>101731</td>\n",
       "      <td>399</td>\n",
       "    </tr>\n",
       "    <tr>\n",
       "      <th>8</th>\n",
       "      <td>Bronx</td>\n",
       "      <td>9</td>\n",
       "      <td>Soundview, Parkchester</td>\n",
       "      <td>166442</td>\n",
       "      <td>167627</td>\n",
       "      <td>155970</td>\n",
       "      <td>167859</td>\n",
       "      <td>172298</td>\n",
       "      <td>4439</td>\n",
       "    </tr>\n",
       "    <tr>\n",
       "      <th>9</th>\n",
       "      <td>Bronx</td>\n",
       "      <td>10</td>\n",
       "      <td>Throgs Nk., Co-op City, Pelham Bay</td>\n",
       "      <td>84948</td>\n",
       "      <td>106516</td>\n",
       "      <td>108093</td>\n",
       "      <td>115948</td>\n",
       "      <td>120392</td>\n",
       "      <td>4444</td>\n",
       "    </tr>\n",
       "    <tr>\n",
       "      <th>10</th>\n",
       "      <td>Bronx</td>\n",
       "      <td>11</td>\n",
       "      <td>Pelham Pkwy, Morris Park, Laconia</td>\n",
       "      <td>105980</td>\n",
       "      <td>99080</td>\n",
       "      <td>97842</td>\n",
       "      <td>110706</td>\n",
       "      <td>113232</td>\n",
       "      <td>2526</td>\n",
       "    </tr>\n",
       "    <tr>\n",
       "      <th>11</th>\n",
       "      <td>Bronx</td>\n",
       "      <td>12</td>\n",
       "      <td>Wakefield, Williamsbridge</td>\n",
       "      <td>135010</td>\n",
       "      <td>128226</td>\n",
       "      <td>129620</td>\n",
       "      <td>149077</td>\n",
       "      <td>152344</td>\n",
       "      <td>3267</td>\n",
       "    </tr>\n",
       "    <tr>\n",
       "      <th>12</th>\n",
       "      <td>Brooklyn</td>\n",
       "      <td>1</td>\n",
       "      <td>Williamsburg, Greenpoint</td>\n",
       "      <td>179390</td>\n",
       "      <td>142942</td>\n",
       "      <td>155972</td>\n",
       "      <td>160338</td>\n",
       "      <td>173083</td>\n",
       "      <td>12745</td>\n",
       "    </tr>\n",
       "    <tr>\n",
       "      <th>13</th>\n",
       "      <td>Brooklyn</td>\n",
       "      <td>2</td>\n",
       "      <td>Brooklyn Heights, Fort Greene</td>\n",
       "      <td>110221</td>\n",
       "      <td>92732</td>\n",
       "      <td>94534</td>\n",
       "      <td>98620</td>\n",
       "      <td>99617</td>\n",
       "      <td>997</td>\n",
       "    </tr>\n",
       "    <tr>\n",
       "      <th>14</th>\n",
       "      <td>Brooklyn</td>\n",
       "      <td>3</td>\n",
       "      <td>Bedford Stuyvesant</td>\n",
       "      <td>203380</td>\n",
       "      <td>133379</td>\n",
       "      <td>138696</td>\n",
       "      <td>143867</td>\n",
       "      <td>152985</td>\n",
       "      <td>9118</td>\n",
       "    </tr>\n",
       "    <tr>\n",
       "      <th>15</th>\n",
       "      <td>Brooklyn</td>\n",
       "      <td>4</td>\n",
       "      <td>Bushwick</td>\n",
       "      <td>137902</td>\n",
       "      <td>92497</td>\n",
       "      <td>102572</td>\n",
       "      <td>104358</td>\n",
       "      <td>112634</td>\n",
       "      <td>8276</td>\n",
       "    </tr>\n",
       "    <tr>\n",
       "      <th>16</th>\n",
       "      <td>Brooklyn</td>\n",
       "      <td>5</td>\n",
       "      <td>East New York, Starrett City</td>\n",
       "      <td>170791</td>\n",
       "      <td>154931</td>\n",
       "      <td>161350</td>\n",
       "      <td>173198</td>\n",
       "      <td>182896</td>\n",
       "      <td>9698</td>\n",
       "    </tr>\n",
       "    <tr>\n",
       "      <th>17</th>\n",
       "      <td>Brooklyn</td>\n",
       "      <td>6</td>\n",
       "      <td>Park Slope, Carroll Gardens</td>\n",
       "      <td>138933</td>\n",
       "      <td>110228</td>\n",
       "      <td>102724</td>\n",
       "      <td>104054</td>\n",
       "      <td>104709</td>\n",
       "      <td>655</td>\n",
       "    </tr>\n",
       "    <tr>\n",
       "      <th>18</th>\n",
       "      <td>Brooklyn</td>\n",
       "      <td>7</td>\n",
       "      <td>Sunset Park, Windsor Terrace</td>\n",
       "      <td>111607</td>\n",
       "      <td>98567</td>\n",
       "      <td>102553</td>\n",
       "      <td>120063</td>\n",
       "      <td>126230</td>\n",
       "      <td>6167</td>\n",
       "    </tr>\n",
       "    <tr>\n",
       "      <th>19</th>\n",
       "      <td>Brooklyn</td>\n",
       "      <td>8</td>\n",
       "      <td>Crown Heights North</td>\n",
       "      <td>121821</td>\n",
       "      <td>88796</td>\n",
       "      <td>96400</td>\n",
       "      <td>96076</td>\n",
       "      <td>96317</td>\n",
       "      <td>241</td>\n",
       "    </tr>\n",
       "    <tr>\n",
       "      <th>20</th>\n",
       "      <td>Brooklyn</td>\n",
       "      <td>9</td>\n",
       "      <td>Crown Heights South, Wingate</td>\n",
       "      <td>101047</td>\n",
       "      <td>96669</td>\n",
       "      <td>110715</td>\n",
       "      <td>104014</td>\n",
       "      <td>98429</td>\n",
       "      <td>-5585</td>\n",
       "    </tr>\n",
       "    <tr>\n",
       "      <th>21</th>\n",
       "      <td>Brooklyn</td>\n",
       "      <td>10</td>\n",
       "      <td>Bay Ridge, Dyker Heights</td>\n",
       "      <td>129822</td>\n",
       "      <td>118187</td>\n",
       "      <td>110612</td>\n",
       "      <td>122542</td>\n",
       "      <td>124491</td>\n",
       "      <td>1949</td>\n",
       "    </tr>\n",
       "    <tr>\n",
       "      <th>22</th>\n",
       "      <td>Brooklyn</td>\n",
       "      <td>11</td>\n",
       "      <td>Bensonhurst, Bath Beach</td>\n",
       "      <td>170119</td>\n",
       "      <td>155072</td>\n",
       "      <td>149994</td>\n",
       "      <td>172129</td>\n",
       "      <td>181981</td>\n",
       "      <td>9852</td>\n",
       "    </tr>\n",
       "    <tr>\n",
       "      <th>23</th>\n",
       "      <td>Brooklyn</td>\n",
       "      <td>12</td>\n",
       "      <td>Borough Park, Ocean Parkway</td>\n",
       "      <td>166301</td>\n",
       "      <td>155899</td>\n",
       "      <td>160018</td>\n",
       "      <td>185046</td>\n",
       "      <td>191382</td>\n",
       "      <td>6336</td>\n",
       "    </tr>\n",
       "    <tr>\n",
       "      <th>24</th>\n",
       "      <td>Brooklyn</td>\n",
       "      <td>13</td>\n",
       "      <td>Coney Island, Brighton Beach</td>\n",
       "      <td>97750</td>\n",
       "      <td>100030</td>\n",
       "      <td>102596</td>\n",
       "      <td>106120</td>\n",
       "      <td>104278</td>\n",
       "      <td>-1842</td>\n",
       "    </tr>\n",
       "    <tr>\n",
       "      <th>25</th>\n",
       "      <td>Brooklyn</td>\n",
       "      <td>14</td>\n",
       "      <td>Flatbush, Midwood</td>\n",
       "      <td>137041</td>\n",
       "      <td>143859</td>\n",
       "      <td>159825</td>\n",
       "      <td>168806</td>\n",
       "      <td>160664</td>\n",
       "      <td>-8142</td>\n",
       "    </tr>\n",
       "    <tr>\n",
       "      <th>26</th>\n",
       "      <td>Brooklyn</td>\n",
       "      <td>15</td>\n",
       "      <td>Sheepshead Bay, Gerritsen Beach</td>\n",
       "      <td>164815</td>\n",
       "      <td>149572</td>\n",
       "      <td>143477</td>\n",
       "      <td>160319</td>\n",
       "      <td>159650</td>\n",
       "      <td>-669</td>\n",
       "    </tr>\n",
       "    <tr>\n",
       "      <th>27</th>\n",
       "      <td>Brooklyn</td>\n",
       "      <td>16</td>\n",
       "      <td>Brownsville, Ocean Hill</td>\n",
       "      <td>122589</td>\n",
       "      <td>73801</td>\n",
       "      <td>84923</td>\n",
       "      <td>85343</td>\n",
       "      <td>86468</td>\n",
       "      <td>1125</td>\n",
       "    </tr>\n",
       "    <tr>\n",
       "      <th>28</th>\n",
       "      <td>Brooklyn</td>\n",
       "      <td>17</td>\n",
       "      <td>East Flatbush, Rugby, Farragut</td>\n",
       "      <td>149496</td>\n",
       "      <td>154596</td>\n",
       "      <td>161261</td>\n",
       "      <td>165753</td>\n",
       "      <td>155252</td>\n",
       "      <td>-10501</td>\n",
       "    </tr>\n",
       "    <tr>\n",
       "      <th>29</th>\n",
       "      <td>Brooklyn</td>\n",
       "      <td>18</td>\n",
       "      <td>Canarsie, Flatlands</td>\n",
       "      <td>188643</td>\n",
       "      <td>169092</td>\n",
       "      <td>162428</td>\n",
       "      <td>194653</td>\n",
       "      <td>193543</td>\n",
       "      <td>-1110</td>\n",
       "    </tr>\n",
       "    <tr>\n",
       "      <th>30</th>\n",
       "      <td>Manhattan</td>\n",
       "      <td>1</td>\n",
       "      <td>Battery Park City, Tribeca</td>\n",
       "      <td>7706</td>\n",
       "      <td>15918</td>\n",
       "      <td>25366</td>\n",
       "      <td>34420</td>\n",
       "      <td>60978</td>\n",
       "      <td>26558</td>\n",
       "    </tr>\n",
       "    <tr>\n",
       "      <th>31</th>\n",
       "      <td>Manhattan</td>\n",
       "      <td>2</td>\n",
       "      <td>Greenwich Village, Soho</td>\n",
       "      <td>84337</td>\n",
       "      <td>87069</td>\n",
       "      <td>94105</td>\n",
       "      <td>93119</td>\n",
       "      <td>90016</td>\n",
       "      <td>-3103</td>\n",
       "    </tr>\n",
       "    <tr>\n",
       "      <th>32</th>\n",
       "      <td>Manhattan</td>\n",
       "      <td>3</td>\n",
       "      <td>Lower East Side, Chinatown</td>\n",
       "      <td>181845</td>\n",
       "      <td>154848</td>\n",
       "      <td>161617</td>\n",
       "      <td>164407</td>\n",
       "      <td>163277</td>\n",
       "      <td>-1130</td>\n",
       "    </tr>\n",
       "    <tr>\n",
       "      <th>33</th>\n",
       "      <td>Manhattan</td>\n",
       "      <td>4</td>\n",
       "      <td>Chelsea, Clinton</td>\n",
       "      <td>83601</td>\n",
       "      <td>82164</td>\n",
       "      <td>84431</td>\n",
       "      <td>87479</td>\n",
       "      <td>103245</td>\n",
       "      <td>15766</td>\n",
       "    </tr>\n",
       "    <tr>\n",
       "      <th>34</th>\n",
       "      <td>Manhattan</td>\n",
       "      <td>5</td>\n",
       "      <td>Midtown Business District</td>\n",
       "      <td>31076</td>\n",
       "      <td>39544</td>\n",
       "      <td>43507</td>\n",
       "      <td>44028</td>\n",
       "      <td>51673</td>\n",
       "      <td>7645</td>\n",
       "    </tr>\n",
       "    <tr>\n",
       "      <th>35</th>\n",
       "      <td>Manhattan</td>\n",
       "      <td>6</td>\n",
       "      <td>Stuyvesant Town, Turtle Bay</td>\n",
       "      <td>122465</td>\n",
       "      <td>127554</td>\n",
       "      <td>133748</td>\n",
       "      <td>136152</td>\n",
       "      <td>142745</td>\n",
       "      <td>6593</td>\n",
       "    </tr>\n",
       "    <tr>\n",
       "      <th>36</th>\n",
       "      <td>Manhattan</td>\n",
       "      <td>7</td>\n",
       "      <td>West Side, Upper West Side</td>\n",
       "      <td>212422</td>\n",
       "      <td>206669</td>\n",
       "      <td>210993</td>\n",
       "      <td>207699</td>\n",
       "      <td>209084</td>\n",
       "      <td>1385</td>\n",
       "    </tr>\n",
       "    <tr>\n",
       "      <th>37</th>\n",
       "      <td>Manhattan</td>\n",
       "      <td>8</td>\n",
       "      <td>Upper East Side</td>\n",
       "      <td>200851</td>\n",
       "      <td>204305</td>\n",
       "      <td>210880</td>\n",
       "      <td>217063</td>\n",
       "      <td>219920</td>\n",
       "      <td>2857</td>\n",
       "    </tr>\n",
       "    <tr>\n",
       "      <th>38</th>\n",
       "      <td>Manhattan</td>\n",
       "      <td>9</td>\n",
       "      <td>Manhattanville, Hamilton Heights</td>\n",
       "      <td>113606</td>\n",
       "      <td>103038</td>\n",
       "      <td>106978</td>\n",
       "      <td>111724</td>\n",
       "      <td>110193</td>\n",
       "      <td>-1531</td>\n",
       "    </tr>\n",
       "    <tr>\n",
       "      <th>39</th>\n",
       "      <td>Manhattan</td>\n",
       "      <td>10</td>\n",
       "      <td>Central Harlem</td>\n",
       "      <td>159267</td>\n",
       "      <td>105641</td>\n",
       "      <td>99519</td>\n",
       "      <td>107109</td>\n",
       "      <td>115723</td>\n",
       "      <td>8614</td>\n",
       "    </tr>\n",
       "    <tr>\n",
       "      <th>40</th>\n",
       "      <td>Manhattan</td>\n",
       "      <td>11</td>\n",
       "      <td>East Harlem</td>\n",
       "      <td>154662</td>\n",
       "      <td>114569</td>\n",
       "      <td>110508</td>\n",
       "      <td>117743</td>\n",
       "      <td>120511</td>\n",
       "      <td>2768</td>\n",
       "    </tr>\n",
       "    <tr>\n",
       "      <th>41</th>\n",
       "      <td>Manhattan</td>\n",
       "      <td>12</td>\n",
       "      <td>Washington Heights, Inwood</td>\n",
       "      <td>180561</td>\n",
       "      <td>179941</td>\n",
       "      <td>198192</td>\n",
       "      <td>208414</td>\n",
       "      <td>190020</td>\n",
       "      <td>-18394</td>\n",
       "    </tr>\n",
       "    <tr>\n",
       "      <th>42</th>\n",
       "      <td>Queens</td>\n",
       "      <td>1</td>\n",
       "      <td>Astoria, Long Island City</td>\n",
       "      <td>185925</td>\n",
       "      <td>185198</td>\n",
       "      <td>188549</td>\n",
       "      <td>211220</td>\n",
       "      <td>191105</td>\n",
       "      <td>-20115</td>\n",
       "    </tr>\n",
       "    <tr>\n",
       "      <th>43</th>\n",
       "      <td>Queens</td>\n",
       "      <td>2</td>\n",
       "      <td>Sunnyside, Woodside</td>\n",
       "      <td>95073</td>\n",
       "      <td>88927</td>\n",
       "      <td>94845</td>\n",
       "      <td>109920</td>\n",
       "      <td>113200</td>\n",
       "      <td>3280</td>\n",
       "    </tr>\n",
       "    <tr>\n",
       "      <th>44</th>\n",
       "      <td>Queens</td>\n",
       "      <td>3</td>\n",
       "      <td>Jackson Heights, North Corona</td>\n",
       "      <td>123635</td>\n",
       "      <td>122090</td>\n",
       "      <td>128924</td>\n",
       "      <td>169083</td>\n",
       "      <td>171576</td>\n",
       "      <td>2493</td>\n",
       "    </tr>\n",
       "    <tr>\n",
       "      <th>45</th>\n",
       "      <td>Queens</td>\n",
       "      <td>4</td>\n",
       "      <td>Elmhurst, South Corona</td>\n",
       "      <td>108233</td>\n",
       "      <td>118430</td>\n",
       "      <td>137023</td>\n",
       "      <td>167005</td>\n",
       "      <td>172598</td>\n",
       "      <td>5593</td>\n",
       "    </tr>\n",
       "    <tr>\n",
       "      <th>46</th>\n",
       "      <td>Queens</td>\n",
       "      <td>5</td>\n",
       "      <td>Ridgewood, Glendale, Maspeth</td>\n",
       "      <td>161022</td>\n",
       "      <td>150142</td>\n",
       "      <td>149126</td>\n",
       "      <td>165911</td>\n",
       "      <td>169190</td>\n",
       "      <td>3279</td>\n",
       "    </tr>\n",
       "    <tr>\n",
       "      <th>47</th>\n",
       "      <td>Queens</td>\n",
       "      <td>6</td>\n",
       "      <td>Forest Hills, Rego Park</td>\n",
       "      <td>120429</td>\n",
       "      <td>112245</td>\n",
       "      <td>106996</td>\n",
       "      <td>115967</td>\n",
       "      <td>113257</td>\n",
       "      <td>-2710</td>\n",
       "    </tr>\n",
       "    <tr>\n",
       "      <th>48</th>\n",
       "      <td>Queens</td>\n",
       "      <td>7</td>\n",
       "      <td>Flushing, Bay Terrace</td>\n",
       "      <td>207589</td>\n",
       "      <td>204785</td>\n",
       "      <td>220508</td>\n",
       "      <td>242952</td>\n",
       "      <td>247354</td>\n",
       "      <td>4402</td>\n",
       "    </tr>\n",
       "    <tr>\n",
       "      <th>49</th>\n",
       "      <td>Queens</td>\n",
       "      <td>8</td>\n",
       "      <td>Fresh Meadows, Briarwood</td>\n",
       "      <td>142468</td>\n",
       "      <td>125312</td>\n",
       "      <td>132101</td>\n",
       "      <td>146594</td>\n",
       "      <td>151107</td>\n",
       "      <td>4513</td>\n",
       "    </tr>\n",
       "    <tr>\n",
       "      <th>50</th>\n",
       "      <td>Queens</td>\n",
       "      <td>9</td>\n",
       "      <td>Woodhaven, Richmond Hill</td>\n",
       "      <td>110367</td>\n",
       "      <td>109505</td>\n",
       "      <td>112151</td>\n",
       "      <td>141608</td>\n",
       "      <td>143317</td>\n",
       "      <td>1709</td>\n",
       "    </tr>\n",
       "    <tr>\n",
       "      <th>51</th>\n",
       "      <td>Queens</td>\n",
       "      <td>10</td>\n",
       "      <td>Ozone Park, Howard Beach</td>\n",
       "      <td>113857</td>\n",
       "      <td>105651</td>\n",
       "      <td>107768</td>\n",
       "      <td>127274</td>\n",
       "      <td>122396</td>\n",
       "      <td>-4878</td>\n",
       "    </tr>\n",
       "    <tr>\n",
       "      <th>52</th>\n",
       "      <td>Queens</td>\n",
       "      <td>11</td>\n",
       "      <td>Bayside, Douglaston, Little Neck</td>\n",
       "      <td>127883</td>\n",
       "      <td>110963</td>\n",
       "      <td>108056</td>\n",
       "      <td>116404</td>\n",
       "      <td>116431</td>\n",
       "      <td>27</td>\n",
       "    </tr>\n",
       "    <tr>\n",
       "      <th>53</th>\n",
       "      <td>Queens</td>\n",
       "      <td>12</td>\n",
       "      <td>Jamaica, St. Albans, Hollis</td>\n",
       "      <td>206639</td>\n",
       "      <td>189383</td>\n",
       "      <td>201293</td>\n",
       "      <td>223602</td>\n",
       "      <td>225919</td>\n",
       "      <td>2317</td>\n",
       "    </tr>\n",
       "    <tr>\n",
       "      <th>54</th>\n",
       "      <td>Queens</td>\n",
       "      <td>13</td>\n",
       "      <td>Queens Village, Rosedale</td>\n",
       "      <td>184647</td>\n",
       "      <td>173178</td>\n",
       "      <td>177535</td>\n",
       "      <td>196284</td>\n",
       "      <td>188593</td>\n",
       "      <td>-7691</td>\n",
       "    </tr>\n",
       "    <tr>\n",
       "      <th>55</th>\n",
       "      <td>Queens</td>\n",
       "      <td>14</td>\n",
       "      <td>The Rockaways, Broad Channel</td>\n",
       "      <td>98228</td>\n",
       "      <td>100592</td>\n",
       "      <td>100596</td>\n",
       "      <td>106686</td>\n",
       "      <td>114978</td>\n",
       "      <td>8292</td>\n",
       "    </tr>\n",
       "    <tr>\n",
       "      <th>56</th>\n",
       "      <td>Staten Island</td>\n",
       "      <td>1</td>\n",
       "      <td>Stapleton, Port Richmond</td>\n",
       "      <td>135875</td>\n",
       "      <td>138489</td>\n",
       "      <td>137806</td>\n",
       "      <td>162609</td>\n",
       "      <td>175756</td>\n",
       "      <td>13147</td>\n",
       "    </tr>\n",
       "    <tr>\n",
       "      <th>57</th>\n",
       "      <td>Staten Island</td>\n",
       "      <td>2</td>\n",
       "      <td>New Springville, South Beach</td>\n",
       "      <td>85985</td>\n",
       "      <td>105128</td>\n",
       "      <td>113944</td>\n",
       "      <td>127071</td>\n",
       "      <td>132003</td>\n",
       "      <td>4932</td>\n",
       "    </tr>\n",
       "    <tr>\n",
       "      <th>58</th>\n",
       "      <td>Staten Island</td>\n",
       "      <td>3</td>\n",
       "      <td>Tottenville, Woodrow, Great Kills</td>\n",
       "      <td>72815</td>\n",
       "      <td>108249</td>\n",
       "      <td>126956</td>\n",
       "      <td>152908</td>\n",
       "      <td>160209</td>\n",
       "      <td>7301</td>\n",
       "    </tr>\n",
       "  </tbody>\n",
       "</table>\n",
       "</div>"
      ],
      "text/plain": [
       "          Borough  CD Number                              CD Name  \\\n",
       "0           Bronx          1     Melrose, Mott Haven, Port Morris   \n",
       "1           Bronx          2                Hunts Point, Longwood   \n",
       "2           Bronx          3        Morrisania, Crotona Park East   \n",
       "3           Bronx          4        Highbridge, Concourse Village   \n",
       "4           Bronx          5   University Hts., Fordham, Mt. Hope   \n",
       "5           Bronx          6                East Tremont, Belmont   \n",
       "6           Bronx          7       Bedford Park, Norwood, Fordham   \n",
       "7           Bronx          8  Riverdale, Kingsbridge, Marble Hill   \n",
       "8           Bronx          9               Soundview, Parkchester   \n",
       "9           Bronx         10   Throgs Nk., Co-op City, Pelham Bay   \n",
       "10          Bronx         11    Pelham Pkwy, Morris Park, Laconia   \n",
       "11          Bronx         12            Wakefield, Williamsbridge   \n",
       "12       Brooklyn          1             Williamsburg, Greenpoint   \n",
       "13       Brooklyn          2        Brooklyn Heights, Fort Greene   \n",
       "14       Brooklyn          3                   Bedford Stuyvesant   \n",
       "15       Brooklyn          4                             Bushwick   \n",
       "16       Brooklyn          5         East New York, Starrett City   \n",
       "17       Brooklyn          6          Park Slope, Carroll Gardens   \n",
       "18       Brooklyn          7         Sunset Park, Windsor Terrace   \n",
       "19       Brooklyn          8                  Crown Heights North   \n",
       "20       Brooklyn          9         Crown Heights South, Wingate   \n",
       "21       Brooklyn         10             Bay Ridge, Dyker Heights   \n",
       "22       Brooklyn         11             Bensonhurst, Bath Beach    \n",
       "23       Brooklyn         12          Borough Park, Ocean Parkway   \n",
       "24       Brooklyn         13         Coney Island, Brighton Beach   \n",
       "25       Brooklyn         14                    Flatbush, Midwood   \n",
       "26       Brooklyn         15      Sheepshead Bay, Gerritsen Beach   \n",
       "27       Brooklyn         16              Brownsville, Ocean Hill   \n",
       "28       Brooklyn         17       East Flatbush, Rugby, Farragut   \n",
       "29       Brooklyn         18                  Canarsie, Flatlands   \n",
       "30      Manhattan          1           Battery Park City, Tribeca   \n",
       "31      Manhattan          2              Greenwich Village, Soho   \n",
       "32      Manhattan          3           Lower East Side, Chinatown   \n",
       "33      Manhattan          4                     Chelsea, Clinton   \n",
       "34      Manhattan          5            Midtown Business District   \n",
       "35      Manhattan          6          Stuyvesant Town, Turtle Bay   \n",
       "36      Manhattan          7           West Side, Upper West Side   \n",
       "37      Manhattan          8                      Upper East Side   \n",
       "38      Manhattan          9     Manhattanville, Hamilton Heights   \n",
       "39      Manhattan         10                       Central Harlem   \n",
       "40      Manhattan         11                          East Harlem   \n",
       "41      Manhattan         12           Washington Heights, Inwood   \n",
       "42         Queens          1            Astoria, Long Island City   \n",
       "43         Queens          2                  Sunnyside, Woodside   \n",
       "44         Queens          3        Jackson Heights, North Corona   \n",
       "45         Queens          4               Elmhurst, South Corona   \n",
       "46         Queens          5         Ridgewood, Glendale, Maspeth   \n",
       "47         Queens          6              Forest Hills, Rego Park   \n",
       "48         Queens          7                Flushing, Bay Terrace   \n",
       "49         Queens          8             Fresh Meadows, Briarwood   \n",
       "50         Queens          9             Woodhaven, Richmond Hill   \n",
       "51         Queens         10             Ozone Park, Howard Beach   \n",
       "52         Queens         11     Bayside, Douglaston, Little Neck   \n",
       "53         Queens         12          Jamaica, St. Albans, Hollis   \n",
       "54         Queens         13             Queens Village, Rosedale   \n",
       "55         Queens         14         The Rockaways, Broad Channel   \n",
       "56  Staten Island          1             Stapleton, Port Richmond   \n",
       "57  Staten Island          2         New Springville, South Beach   \n",
       "58  Staten Island          3    Tottenville, Woodrow, Great Kills   \n",
       "\n",
       "    1970 Population  1980 Population  1990 Population  2000 Population  \\\n",
       "0            138557            78441            77214            82159   \n",
       "1             99493            34399            39443            46824   \n",
       "2            150636            53635            57162            68574   \n",
       "3            144207           114312           119962           139563   \n",
       "4            121807           107995           118435           128313   \n",
       "5            114137            65016            68061            75688   \n",
       "6            113764           116827           128588           141411   \n",
       "7            103543            98275            97030           101332   \n",
       "8            166442           167627           155970           167859   \n",
       "9             84948           106516           108093           115948   \n",
       "10           105980            99080            97842           110706   \n",
       "11           135010           128226           129620           149077   \n",
       "12           179390           142942           155972           160338   \n",
       "13           110221            92732            94534            98620   \n",
       "14           203380           133379           138696           143867   \n",
       "15           137902            92497           102572           104358   \n",
       "16           170791           154931           161350           173198   \n",
       "17           138933           110228           102724           104054   \n",
       "18           111607            98567           102553           120063   \n",
       "19           121821            88796            96400            96076   \n",
       "20           101047            96669           110715           104014   \n",
       "21           129822           118187           110612           122542   \n",
       "22           170119           155072           149994           172129   \n",
       "23           166301           155899           160018           185046   \n",
       "24            97750           100030           102596           106120   \n",
       "25           137041           143859           159825           168806   \n",
       "26           164815           149572           143477           160319   \n",
       "27           122589            73801            84923            85343   \n",
       "28           149496           154596           161261           165753   \n",
       "29           188643           169092           162428           194653   \n",
       "30             7706            15918            25366            34420   \n",
       "31            84337            87069            94105            93119   \n",
       "32           181845           154848           161617           164407   \n",
       "33            83601            82164            84431            87479   \n",
       "34            31076            39544            43507            44028   \n",
       "35           122465           127554           133748           136152   \n",
       "36           212422           206669           210993           207699   \n",
       "37           200851           204305           210880           217063   \n",
       "38           113606           103038           106978           111724   \n",
       "39           159267           105641            99519           107109   \n",
       "40           154662           114569           110508           117743   \n",
       "41           180561           179941           198192           208414   \n",
       "42           185925           185198           188549           211220   \n",
       "43            95073            88927            94845           109920   \n",
       "44           123635           122090           128924           169083   \n",
       "45           108233           118430           137023           167005   \n",
       "46           161022           150142           149126           165911   \n",
       "47           120429           112245           106996           115967   \n",
       "48           207589           204785           220508           242952   \n",
       "49           142468           125312           132101           146594   \n",
       "50           110367           109505           112151           141608   \n",
       "51           113857           105651           107768           127274   \n",
       "52           127883           110963           108056           116404   \n",
       "53           206639           189383           201293           223602   \n",
       "54           184647           173178           177535           196284   \n",
       "55            98228           100592           100596           106686   \n",
       "56           135875           138489           137806           162609   \n",
       "57            85985           105128           113944           127071   \n",
       "58            72815           108249           126956           152908   \n",
       "\n",
       "    2010 Population  change  \n",
       "0             91497    9338  \n",
       "1             52246    5422  \n",
       "2             79762   11188  \n",
       "3            146441    6878  \n",
       "4            128200    -113  \n",
       "5             83268    7580  \n",
       "6            139286   -2125  \n",
       "7            101731     399  \n",
       "8            172298    4439  \n",
       "9            120392    4444  \n",
       "10           113232    2526  \n",
       "11           152344    3267  \n",
       "12           173083   12745  \n",
       "13            99617     997  \n",
       "14           152985    9118  \n",
       "15           112634    8276  \n",
       "16           182896    9698  \n",
       "17           104709     655  \n",
       "18           126230    6167  \n",
       "19            96317     241  \n",
       "20            98429   -5585  \n",
       "21           124491    1949  \n",
       "22           181981    9852  \n",
       "23           191382    6336  \n",
       "24           104278   -1842  \n",
       "25           160664   -8142  \n",
       "26           159650    -669  \n",
       "27            86468    1125  \n",
       "28           155252  -10501  \n",
       "29           193543   -1110  \n",
       "30            60978   26558  \n",
       "31            90016   -3103  \n",
       "32           163277   -1130  \n",
       "33           103245   15766  \n",
       "34            51673    7645  \n",
       "35           142745    6593  \n",
       "36           209084    1385  \n",
       "37           219920    2857  \n",
       "38           110193   -1531  \n",
       "39           115723    8614  \n",
       "40           120511    2768  \n",
       "41           190020  -18394  \n",
       "42           191105  -20115  \n",
       "43           113200    3280  \n",
       "44           171576    2493  \n",
       "45           172598    5593  \n",
       "46           169190    3279  \n",
       "47           113257   -2710  \n",
       "48           247354    4402  \n",
       "49           151107    4513  \n",
       "50           143317    1709  \n",
       "51           122396   -4878  \n",
       "52           116431      27  \n",
       "53           225919    2317  \n",
       "54           188593   -7691  \n",
       "55           114978    8292  \n",
       "56           175756   13147  \n",
       "57           132003    4932  \n",
       "58           160209    7301  "
      ]
     },
     "execution_count": 68,
     "metadata": {},
     "output_type": "execute_result"
    }
   ],
   "source": [
    "df['change'] = df['2010 Population'] - df['2000 Population']\n",
    "df"
   ]
  },
  {
   "cell_type": "markdown",
   "metadata": {},
   "source": [
    "## Step 7\n",
    "\n",
    "Let make a [choropleth map](https://www.data-to-viz.com/graph/choropleth.html) showing the population change for each community district that we just calculated. Adapt [the `.choropleth_mapbox()` example in Lecture 3](https://colab.research.google.com/github/afeld/python-public-policy/blob/master/lecture_3.ipynb#scrollTo=5lLS8zmn6oHP)."
   ]
  },
  {
   "cell_type": "code",
   "execution_count": 70,
   "metadata": {},
   "outputs": [
    {
     "data": {
      "application/vnd.plotly.v1+json": {
       "config": {
        "plotlyServerURL": "https://plot.ly"
       },
       "data": [
        {
         "coloraxis": "coloraxis",
         "customdata": [
          [
           "Melrose, Mott Haven, Port Morris"
          ],
          [
           "Hunts Point, Longwood"
          ],
          [
           "Morrisania, Crotona Park East"
          ],
          [
           "Highbridge, Concourse Village"
          ],
          [
           "University Hts., Fordham, Mt. Hope"
          ],
          [
           "East Tremont, Belmont"
          ],
          [
           "Bedford Park, Norwood, Fordham"
          ],
          [
           "Riverdale, Kingsbridge, Marble Hill"
          ],
          [
           "Soundview, Parkchester"
          ],
          [
           "Throgs Nk., Co-op City, Pelham Bay"
          ],
          [
           "Pelham Pkwy, Morris Park, Laconia"
          ],
          [
           "Wakefield, Williamsbridge"
          ],
          [
           "Williamsburg, Greenpoint"
          ],
          [
           "Brooklyn Heights, Fort Greene"
          ],
          [
           "Bedford Stuyvesant"
          ],
          [
           "Bushwick"
          ],
          [
           "East New York, Starrett City"
          ],
          [
           "Park Slope, Carroll Gardens"
          ],
          [
           "Sunset Park, Windsor Terrace"
          ],
          [
           "Crown Heights North"
          ],
          [
           "Crown Heights South, Wingate"
          ],
          [
           "Bay Ridge, Dyker Heights"
          ],
          [
           "Bensonhurst, Bath Beach "
          ],
          [
           "Borough Park, Ocean Parkway"
          ],
          [
           "Coney Island, Brighton Beach"
          ],
          [
           "Flatbush, Midwood"
          ],
          [
           "Sheepshead Bay, Gerritsen Beach"
          ],
          [
           "Brownsville, Ocean Hill"
          ],
          [
           "East Flatbush, Rugby, Farragut"
          ],
          [
           "Canarsie, Flatlands"
          ],
          [
           "Battery Park City, Tribeca"
          ],
          [
           "Greenwich Village, Soho"
          ],
          [
           "Lower East Side, Chinatown"
          ],
          [
           "Chelsea, Clinton"
          ],
          [
           "Midtown Business District"
          ],
          [
           "Stuyvesant Town, Turtle Bay"
          ],
          [
           "West Side, Upper West Side"
          ],
          [
           "Upper East Side"
          ],
          [
           "Manhattanville, Hamilton Heights"
          ],
          [
           "Central Harlem"
          ],
          [
           "East Harlem"
          ],
          [
           "Washington Heights, Inwood"
          ],
          [
           "Astoria, Long Island City"
          ],
          [
           "Sunnyside, Woodside"
          ],
          [
           "Jackson Heights, North Corona"
          ],
          [
           "Elmhurst, South Corona"
          ],
          [
           "Ridgewood, Glendale, Maspeth"
          ],
          [
           "Forest Hills, Rego Park"
          ],
          [
           "Flushing, Bay Terrace"
          ],
          [
           "Fresh Meadows, Briarwood"
          ],
          [
           "Woodhaven, Richmond Hill"
          ],
          [
           "Ozone Park, Howard Beach"
          ],
          [
           "Bayside, Douglaston, Little Neck"
          ],
          [
           "Jamaica, St. Albans, Hollis"
          ],
          [
           "Queens Village, Rosedale"
          ],
          [
           "The Rockaways, Broad Channel"
          ],
          [
           "Stapleton, Port Richmond"
          ],
          [
           "New Springville, South Beach"
          ],
          [
           "Tottenville, Woodrow, Great Kills"
          ]
         ],
         "featureidkey": "properties.boro_cd",
         "geojson": "https://data.cityofnewyork.us/api/geospatial/yfnk-k7r4?method=export&format=GeoJSON",
         "hovertemplate": "CD Name=%{customdata[0]}<br>borocd=%{location}<br>change=%{z}<extra></extra>",
         "locations": [
          "201",
          "202",
          "203",
          "204",
          "205",
          "206",
          "207",
          "208",
          "209",
          "210",
          "211",
          "212",
          "301",
          "302",
          "303",
          "304",
          "305",
          "306",
          "307",
          "308",
          "309",
          "310",
          "311",
          "312",
          "313",
          "314",
          "315",
          "316",
          "317",
          "318",
          "101",
          "102",
          "103",
          "104",
          "105",
          "106",
          "107",
          "108",
          "109",
          "110",
          "111",
          "112",
          "401",
          "402",
          "403",
          "404",
          "405",
          "406",
          "407",
          "408",
          "409",
          "410",
          "411",
          "412",
          "413",
          "414",
          "501",
          "502",
          "503"
         ],
         "name": "",
         "subplot": "mapbox",
         "type": "choroplethmapbox",
         "z": [
          9338,
          5422,
          11188,
          6878,
          -113,
          7580,
          -2125,
          399,
          4439,
          4444,
          2526,
          3267,
          12745,
          997,
          9118,
          8276,
          9698,
          655,
          6167,
          241,
          -5585,
          1949,
          9852,
          6336,
          -1842,
          -8142,
          -669,
          1125,
          -10501,
          -1110,
          26558,
          -3103,
          -1130,
          15766,
          7645,
          6593,
          1385,
          2857,
          -1531,
          8614,
          2768,
          -18394,
          -20115,
          3280,
          2493,
          5593,
          3279,
          -2710,
          4402,
          4513,
          1709,
          -4878,
          27,
          2317,
          -7691,
          8292,
          13147,
          4932,
          7301
         ]
        }
       ],
       "layout": {
        "coloraxis": {
         "colorbar": {
          "title": {
           "text": "change"
          }
         },
         "colorscale": [
          [
           0,
           "#0d0887"
          ],
          [
           0.1111111111111111,
           "#46039f"
          ],
          [
           0.2222222222222222,
           "#7201a8"
          ],
          [
           0.3333333333333333,
           "#9c179e"
          ],
          [
           0.4444444444444444,
           "#bd3786"
          ],
          [
           0.5555555555555556,
           "#d8576b"
          ],
          [
           0.6666666666666666,
           "#ed7953"
          ],
          [
           0.7777777777777778,
           "#fb9f3a"
          ],
          [
           0.8888888888888888,
           "#fdca26"
          ],
          [
           1,
           "#f0f921"
          ]
         ]
        },
        "height": 700,
        "legend": {
         "tracegroupgap": 0
        },
        "mapbox": {
         "center": {
          "lat": 40.73,
          "lon": -73.98
         },
         "domain": {
          "x": [
           0,
           1
          ],
          "y": [
           0,
           1
          ]
         },
         "style": "carto-positron",
         "zoom": 9
        },
        "margin": {
         "t": 60
        },
        "template": {
         "data": {
          "bar": [
           {
            "error_x": {
             "color": "#2a3f5f"
            },
            "error_y": {
             "color": "#2a3f5f"
            },
            "marker": {
             "line": {
              "color": "#E5ECF6",
              "width": 0.5
             }
            },
            "type": "bar"
           }
          ],
          "barpolar": [
           {
            "marker": {
             "line": {
              "color": "#E5ECF6",
              "width": 0.5
             }
            },
            "type": "barpolar"
           }
          ],
          "carpet": [
           {
            "aaxis": {
             "endlinecolor": "#2a3f5f",
             "gridcolor": "white",
             "linecolor": "white",
             "minorgridcolor": "white",
             "startlinecolor": "#2a3f5f"
            },
            "baxis": {
             "endlinecolor": "#2a3f5f",
             "gridcolor": "white",
             "linecolor": "white",
             "minorgridcolor": "white",
             "startlinecolor": "#2a3f5f"
            },
            "type": "carpet"
           }
          ],
          "choropleth": [
           {
            "colorbar": {
             "outlinewidth": 0,
             "ticks": ""
            },
            "type": "choropleth"
           }
          ],
          "contour": [
           {
            "colorbar": {
             "outlinewidth": 0,
             "ticks": ""
            },
            "colorscale": [
             [
              0,
              "#0d0887"
             ],
             [
              0.1111111111111111,
              "#46039f"
             ],
             [
              0.2222222222222222,
              "#7201a8"
             ],
             [
              0.3333333333333333,
              "#9c179e"
             ],
             [
              0.4444444444444444,
              "#bd3786"
             ],
             [
              0.5555555555555556,
              "#d8576b"
             ],
             [
              0.6666666666666666,
              "#ed7953"
             ],
             [
              0.7777777777777778,
              "#fb9f3a"
             ],
             [
              0.8888888888888888,
              "#fdca26"
             ],
             [
              1,
              "#f0f921"
             ]
            ],
            "type": "contour"
           }
          ],
          "contourcarpet": [
           {
            "colorbar": {
             "outlinewidth": 0,
             "ticks": ""
            },
            "type": "contourcarpet"
           }
          ],
          "heatmap": [
           {
            "colorbar": {
             "outlinewidth": 0,
             "ticks": ""
            },
            "colorscale": [
             [
              0,
              "#0d0887"
             ],
             [
              0.1111111111111111,
              "#46039f"
             ],
             [
              0.2222222222222222,
              "#7201a8"
             ],
             [
              0.3333333333333333,
              "#9c179e"
             ],
             [
              0.4444444444444444,
              "#bd3786"
             ],
             [
              0.5555555555555556,
              "#d8576b"
             ],
             [
              0.6666666666666666,
              "#ed7953"
             ],
             [
              0.7777777777777778,
              "#fb9f3a"
             ],
             [
              0.8888888888888888,
              "#fdca26"
             ],
             [
              1,
              "#f0f921"
             ]
            ],
            "type": "heatmap"
           }
          ],
          "heatmapgl": [
           {
            "colorbar": {
             "outlinewidth": 0,
             "ticks": ""
            },
            "colorscale": [
             [
              0,
              "#0d0887"
             ],
             [
              0.1111111111111111,
              "#46039f"
             ],
             [
              0.2222222222222222,
              "#7201a8"
             ],
             [
              0.3333333333333333,
              "#9c179e"
             ],
             [
              0.4444444444444444,
              "#bd3786"
             ],
             [
              0.5555555555555556,
              "#d8576b"
             ],
             [
              0.6666666666666666,
              "#ed7953"
             ],
             [
              0.7777777777777778,
              "#fb9f3a"
             ],
             [
              0.8888888888888888,
              "#fdca26"
             ],
             [
              1,
              "#f0f921"
             ]
            ],
            "type": "heatmapgl"
           }
          ],
          "histogram": [
           {
            "marker": {
             "colorbar": {
              "outlinewidth": 0,
              "ticks": ""
             }
            },
            "type": "histogram"
           }
          ],
          "histogram2d": [
           {
            "colorbar": {
             "outlinewidth": 0,
             "ticks": ""
            },
            "colorscale": [
             [
              0,
              "#0d0887"
             ],
             [
              0.1111111111111111,
              "#46039f"
             ],
             [
              0.2222222222222222,
              "#7201a8"
             ],
             [
              0.3333333333333333,
              "#9c179e"
             ],
             [
              0.4444444444444444,
              "#bd3786"
             ],
             [
              0.5555555555555556,
              "#d8576b"
             ],
             [
              0.6666666666666666,
              "#ed7953"
             ],
             [
              0.7777777777777778,
              "#fb9f3a"
             ],
             [
              0.8888888888888888,
              "#fdca26"
             ],
             [
              1,
              "#f0f921"
             ]
            ],
            "type": "histogram2d"
           }
          ],
          "histogram2dcontour": [
           {
            "colorbar": {
             "outlinewidth": 0,
             "ticks": ""
            },
            "colorscale": [
             [
              0,
              "#0d0887"
             ],
             [
              0.1111111111111111,
              "#46039f"
             ],
             [
              0.2222222222222222,
              "#7201a8"
             ],
             [
              0.3333333333333333,
              "#9c179e"
             ],
             [
              0.4444444444444444,
              "#bd3786"
             ],
             [
              0.5555555555555556,
              "#d8576b"
             ],
             [
              0.6666666666666666,
              "#ed7953"
             ],
             [
              0.7777777777777778,
              "#fb9f3a"
             ],
             [
              0.8888888888888888,
              "#fdca26"
             ],
             [
              1,
              "#f0f921"
             ]
            ],
            "type": "histogram2dcontour"
           }
          ],
          "mesh3d": [
           {
            "colorbar": {
             "outlinewidth": 0,
             "ticks": ""
            },
            "type": "mesh3d"
           }
          ],
          "parcoords": [
           {
            "line": {
             "colorbar": {
              "outlinewidth": 0,
              "ticks": ""
             }
            },
            "type": "parcoords"
           }
          ],
          "pie": [
           {
            "automargin": true,
            "type": "pie"
           }
          ],
          "scatter": [
           {
            "marker": {
             "colorbar": {
              "outlinewidth": 0,
              "ticks": ""
             }
            },
            "type": "scatter"
           }
          ],
          "scatter3d": [
           {
            "line": {
             "colorbar": {
              "outlinewidth": 0,
              "ticks": ""
             }
            },
            "marker": {
             "colorbar": {
              "outlinewidth": 0,
              "ticks": ""
             }
            },
            "type": "scatter3d"
           }
          ],
          "scattercarpet": [
           {
            "marker": {
             "colorbar": {
              "outlinewidth": 0,
              "ticks": ""
             }
            },
            "type": "scattercarpet"
           }
          ],
          "scattergeo": [
           {
            "marker": {
             "colorbar": {
              "outlinewidth": 0,
              "ticks": ""
             }
            },
            "type": "scattergeo"
           }
          ],
          "scattergl": [
           {
            "marker": {
             "colorbar": {
              "outlinewidth": 0,
              "ticks": ""
             }
            },
            "type": "scattergl"
           }
          ],
          "scattermapbox": [
           {
            "marker": {
             "colorbar": {
              "outlinewidth": 0,
              "ticks": ""
             }
            },
            "type": "scattermapbox"
           }
          ],
          "scatterpolar": [
           {
            "marker": {
             "colorbar": {
              "outlinewidth": 0,
              "ticks": ""
             }
            },
            "type": "scatterpolar"
           }
          ],
          "scatterpolargl": [
           {
            "marker": {
             "colorbar": {
              "outlinewidth": 0,
              "ticks": ""
             }
            },
            "type": "scatterpolargl"
           }
          ],
          "scatterternary": [
           {
            "marker": {
             "colorbar": {
              "outlinewidth": 0,
              "ticks": ""
             }
            },
            "type": "scatterternary"
           }
          ],
          "surface": [
           {
            "colorbar": {
             "outlinewidth": 0,
             "ticks": ""
            },
            "colorscale": [
             [
              0,
              "#0d0887"
             ],
             [
              0.1111111111111111,
              "#46039f"
             ],
             [
              0.2222222222222222,
              "#7201a8"
             ],
             [
              0.3333333333333333,
              "#9c179e"
             ],
             [
              0.4444444444444444,
              "#bd3786"
             ],
             [
              0.5555555555555556,
              "#d8576b"
             ],
             [
              0.6666666666666666,
              "#ed7953"
             ],
             [
              0.7777777777777778,
              "#fb9f3a"
             ],
             [
              0.8888888888888888,
              "#fdca26"
             ],
             [
              1,
              "#f0f921"
             ]
            ],
            "type": "surface"
           }
          ],
          "table": [
           {
            "cells": {
             "fill": {
              "color": "#EBF0F8"
             },
             "line": {
              "color": "white"
             }
            },
            "header": {
             "fill": {
              "color": "#C8D4E3"
             },
             "line": {
              "color": "white"
             }
            },
            "type": "table"
           }
          ]
         },
         "layout": {
          "annotationdefaults": {
           "arrowcolor": "#2a3f5f",
           "arrowhead": 0,
           "arrowwidth": 1
          },
          "coloraxis": {
           "colorbar": {
            "outlinewidth": 0,
            "ticks": ""
           }
          },
          "colorscale": {
           "diverging": [
            [
             0,
             "#8e0152"
            ],
            [
             0.1,
             "#c51b7d"
            ],
            [
             0.2,
             "#de77ae"
            ],
            [
             0.3,
             "#f1b6da"
            ],
            [
             0.4,
             "#fde0ef"
            ],
            [
             0.5,
             "#f7f7f7"
            ],
            [
             0.6,
             "#e6f5d0"
            ],
            [
             0.7,
             "#b8e186"
            ],
            [
             0.8,
             "#7fbc41"
            ],
            [
             0.9,
             "#4d9221"
            ],
            [
             1,
             "#276419"
            ]
           ],
           "sequential": [
            [
             0,
             "#0d0887"
            ],
            [
             0.1111111111111111,
             "#46039f"
            ],
            [
             0.2222222222222222,
             "#7201a8"
            ],
            [
             0.3333333333333333,
             "#9c179e"
            ],
            [
             0.4444444444444444,
             "#bd3786"
            ],
            [
             0.5555555555555556,
             "#d8576b"
            ],
            [
             0.6666666666666666,
             "#ed7953"
            ],
            [
             0.7777777777777778,
             "#fb9f3a"
            ],
            [
             0.8888888888888888,
             "#fdca26"
            ],
            [
             1,
             "#f0f921"
            ]
           ],
           "sequentialminus": [
            [
             0,
             "#0d0887"
            ],
            [
             0.1111111111111111,
             "#46039f"
            ],
            [
             0.2222222222222222,
             "#7201a8"
            ],
            [
             0.3333333333333333,
             "#9c179e"
            ],
            [
             0.4444444444444444,
             "#bd3786"
            ],
            [
             0.5555555555555556,
             "#d8576b"
            ],
            [
             0.6666666666666666,
             "#ed7953"
            ],
            [
             0.7777777777777778,
             "#fb9f3a"
            ],
            [
             0.8888888888888888,
             "#fdca26"
            ],
            [
             1,
             "#f0f921"
            ]
           ]
          },
          "colorway": [
           "#636efa",
           "#EF553B",
           "#00cc96",
           "#ab63fa",
           "#FFA15A",
           "#19d3f3",
           "#FF6692",
           "#B6E880",
           "#FF97FF",
           "#FECB52"
          ],
          "font": {
           "color": "#2a3f5f"
          },
          "geo": {
           "bgcolor": "white",
           "lakecolor": "white",
           "landcolor": "#E5ECF6",
           "showlakes": true,
           "showland": true,
           "subunitcolor": "white"
          },
          "hoverlabel": {
           "align": "left"
          },
          "hovermode": "closest",
          "mapbox": {
           "style": "light"
          },
          "paper_bgcolor": "white",
          "plot_bgcolor": "#E5ECF6",
          "polar": {
           "angularaxis": {
            "gridcolor": "white",
            "linecolor": "white",
            "ticks": ""
           },
           "bgcolor": "#E5ECF6",
           "radialaxis": {
            "gridcolor": "white",
            "linecolor": "white",
            "ticks": ""
           }
          },
          "scene": {
           "xaxis": {
            "backgroundcolor": "#E5ECF6",
            "gridcolor": "white",
            "gridwidth": 2,
            "linecolor": "white",
            "showbackground": true,
            "ticks": "",
            "zerolinecolor": "white"
           },
           "yaxis": {
            "backgroundcolor": "#E5ECF6",
            "gridcolor": "white",
            "gridwidth": 2,
            "linecolor": "white",
            "showbackground": true,
            "ticks": "",
            "zerolinecolor": "white"
           },
           "zaxis": {
            "backgroundcolor": "#E5ECF6",
            "gridcolor": "white",
            "gridwidth": 2,
            "linecolor": "white",
            "showbackground": true,
            "ticks": "",
            "zerolinecolor": "white"
           }
          },
          "shapedefaults": {
           "line": {
            "color": "#2a3f5f"
           }
          },
          "ternary": {
           "aaxis": {
            "gridcolor": "white",
            "linecolor": "white",
            "ticks": ""
           },
           "baxis": {
            "gridcolor": "white",
            "linecolor": "white",
            "ticks": ""
           },
           "bgcolor": "#E5ECF6",
           "caxis": {
            "gridcolor": "white",
            "linecolor": "white",
            "ticks": ""
           }
          },
          "title": {
           "x": 0.05
          },
          "xaxis": {
           "automargin": true,
           "gridcolor": "white",
           "linecolor": "white",
           "ticks": "",
           "title": {
            "standoff": 15
           },
           "zerolinecolor": "white",
           "zerolinewidth": 2
          },
          "yaxis": {
           "automargin": true,
           "gridcolor": "white",
           "linecolor": "white",
           "ticks": "",
           "title": {
            "standoff": 15
           },
           "zerolinecolor": "white",
           "zerolinewidth": 2
          }
         }
        }
       }
      },
      "text/html": [
       "<div>\n",
       "        \n",
       "        \n",
       "            <div id=\"56b6c038-7ee3-485d-9a99-9dc7bf37ff80\" class=\"plotly-graph-div\" style=\"height:700px; width:100%;\"></div>\n",
       "            <script type=\"text/javascript\">\n",
       "                require([\"plotly\"], function(Plotly) {\n",
       "                    window.PLOTLYENV=window.PLOTLYENV || {};\n",
       "                    \n",
       "                if (document.getElementById(\"56b6c038-7ee3-485d-9a99-9dc7bf37ff80\")) {\n",
       "                    Plotly.newPlot(\n",
       "                        '56b6c038-7ee3-485d-9a99-9dc7bf37ff80',\n",
       "                        [{\"coloraxis\": \"coloraxis\", \"customdata\": [[\"Melrose, Mott Haven, Port Morris\"], [\"Hunts Point, Longwood\"], [\"Morrisania, Crotona Park East\"], [\"Highbridge, Concourse Village\"], [\"University Hts., Fordham, Mt. Hope\"], [\"East Tremont, Belmont\"], [\"Bedford Park, Norwood, Fordham\"], [\"Riverdale, Kingsbridge, Marble Hill\"], [\"Soundview, Parkchester\"], [\"Throgs Nk., Co-op City, Pelham Bay\"], [\"Pelham Pkwy, Morris Park, Laconia\"], [\"Wakefield, Williamsbridge\"], [\"Williamsburg, Greenpoint\"], [\"Brooklyn Heights, Fort Greene\"], [\"Bedford Stuyvesant\"], [\"Bushwick\"], [\"East New York, Starrett City\"], [\"Park Slope, Carroll Gardens\"], [\"Sunset Park, Windsor Terrace\"], [\"Crown Heights North\"], [\"Crown Heights South, Wingate\"], [\"Bay Ridge, Dyker Heights\"], [\"Bensonhurst, Bath Beach \"], [\"Borough Park, Ocean Parkway\"], [\"Coney Island, Brighton Beach\"], [\"Flatbush, Midwood\"], [\"Sheepshead Bay, Gerritsen Beach\"], [\"Brownsville, Ocean Hill\"], [\"East Flatbush, Rugby, Farragut\"], [\"Canarsie, Flatlands\"], [\"Battery Park City, Tribeca\"], [\"Greenwich Village, Soho\"], [\"Lower East Side, Chinatown\"], [\"Chelsea, Clinton\"], [\"Midtown Business District\"], [\"Stuyvesant Town, Turtle Bay\"], [\"West Side, Upper West Side\"], [\"Upper East Side\"], [\"Manhattanville, Hamilton Heights\"], [\"Central Harlem\"], [\"East Harlem\"], [\"Washington Heights, Inwood\"], [\"Astoria, Long Island City\"], [\"Sunnyside, Woodside\"], [\"Jackson Heights, North Corona\"], [\"Elmhurst, South Corona\"], [\"Ridgewood, Glendale, Maspeth\"], [\"Forest Hills, Rego Park\"], [\"Flushing, Bay Terrace\"], [\"Fresh Meadows, Briarwood\"], [\"Woodhaven, Richmond Hill\"], [\"Ozone Park, Howard Beach\"], [\"Bayside, Douglaston, Little Neck\"], [\"Jamaica, St. Albans, Hollis\"], [\"Queens Village, Rosedale\"], [\"The Rockaways, Broad Channel\"], [\"Stapleton, Port Richmond\"], [\"New Springville, South Beach\"], [\"Tottenville, Woodrow, Great Kills\"]], \"featureidkey\": \"properties.boro_cd\", \"geojson\": \"https://data.cityofnewyork.us/api/geospatial/yfnk-k7r4?method=export&format=GeoJSON\", \"hovertemplate\": \"CD Name=%{customdata[0]}<br>borocd=%{location}<br>change=%{z}<extra></extra>\", \"locations\": [\"201\", \"202\", \"203\", \"204\", \"205\", \"206\", \"207\", \"208\", \"209\", \"210\", \"211\", \"212\", \"301\", \"302\", \"303\", \"304\", \"305\", \"306\", \"307\", \"308\", \"309\", \"310\", \"311\", \"312\", \"313\", \"314\", \"315\", \"316\", \"317\", \"318\", \"101\", \"102\", \"103\", \"104\", \"105\", \"106\", \"107\", \"108\", \"109\", \"110\", \"111\", \"112\", \"401\", \"402\", \"403\", \"404\", \"405\", \"406\", \"407\", \"408\", \"409\", \"410\", \"411\", \"412\", \"413\", \"414\", \"501\", \"502\", \"503\"], \"name\": \"\", \"subplot\": \"mapbox\", \"type\": \"choroplethmapbox\", \"z\": [9338, 5422, 11188, 6878, -113, 7580, -2125, 399, 4439, 4444, 2526, 3267, 12745, 997, 9118, 8276, 9698, 655, 6167, 241, -5585, 1949, 9852, 6336, -1842, -8142, -669, 1125, -10501, -1110, 26558, -3103, -1130, 15766, 7645, 6593, 1385, 2857, -1531, 8614, 2768, -18394, -20115, 3280, 2493, 5593, 3279, -2710, 4402, 4513, 1709, -4878, 27, 2317, -7691, 8292, 13147, 4932, 7301]}],\n",
       "                        {\"coloraxis\": {\"colorbar\": {\"title\": {\"text\": \"change\"}}, \"colorscale\": [[0.0, \"#0d0887\"], [0.1111111111111111, \"#46039f\"], [0.2222222222222222, \"#7201a8\"], [0.3333333333333333, \"#9c179e\"], [0.4444444444444444, \"#bd3786\"], [0.5555555555555556, \"#d8576b\"], [0.6666666666666666, \"#ed7953\"], [0.7777777777777778, \"#fb9f3a\"], [0.8888888888888888, \"#fdca26\"], [1.0, \"#f0f921\"]]}, \"height\": 700, \"legend\": {\"tracegroupgap\": 0}, \"mapbox\": {\"center\": {\"lat\": 40.73, \"lon\": -73.98}, \"domain\": {\"x\": [0.0, 1.0], \"y\": [0.0, 1.0]}, \"style\": \"carto-positron\", \"zoom\": 9}, \"margin\": {\"t\": 60}, \"template\": {\"data\": {\"bar\": [{\"error_x\": {\"color\": \"#2a3f5f\"}, \"error_y\": {\"color\": \"#2a3f5f\"}, \"marker\": {\"line\": {\"color\": \"#E5ECF6\", \"width\": 0.5}}, \"type\": \"bar\"}], \"barpolar\": [{\"marker\": {\"line\": {\"color\": \"#E5ECF6\", \"width\": 0.5}}, \"type\": \"barpolar\"}], \"carpet\": [{\"aaxis\": {\"endlinecolor\": \"#2a3f5f\", \"gridcolor\": \"white\", \"linecolor\": \"white\", \"minorgridcolor\": \"white\", \"startlinecolor\": \"#2a3f5f\"}, \"baxis\": {\"endlinecolor\": \"#2a3f5f\", \"gridcolor\": \"white\", \"linecolor\": \"white\", \"minorgridcolor\": \"white\", \"startlinecolor\": \"#2a3f5f\"}, \"type\": \"carpet\"}], \"choropleth\": [{\"colorbar\": {\"outlinewidth\": 0, \"ticks\": \"\"}, \"type\": \"choropleth\"}], \"contour\": [{\"colorbar\": {\"outlinewidth\": 0, \"ticks\": \"\"}, \"colorscale\": [[0.0, \"#0d0887\"], [0.1111111111111111, \"#46039f\"], [0.2222222222222222, \"#7201a8\"], [0.3333333333333333, \"#9c179e\"], [0.4444444444444444, \"#bd3786\"], [0.5555555555555556, \"#d8576b\"], [0.6666666666666666, \"#ed7953\"], [0.7777777777777778, \"#fb9f3a\"], [0.8888888888888888, \"#fdca26\"], [1.0, \"#f0f921\"]], \"type\": \"contour\"}], \"contourcarpet\": [{\"colorbar\": {\"outlinewidth\": 0, \"ticks\": \"\"}, \"type\": \"contourcarpet\"}], \"heatmap\": [{\"colorbar\": {\"outlinewidth\": 0, \"ticks\": \"\"}, \"colorscale\": [[0.0, \"#0d0887\"], [0.1111111111111111, \"#46039f\"], [0.2222222222222222, \"#7201a8\"], [0.3333333333333333, \"#9c179e\"], [0.4444444444444444, \"#bd3786\"], [0.5555555555555556, \"#d8576b\"], [0.6666666666666666, \"#ed7953\"], [0.7777777777777778, \"#fb9f3a\"], [0.8888888888888888, \"#fdca26\"], [1.0, \"#f0f921\"]], \"type\": \"heatmap\"}], \"heatmapgl\": [{\"colorbar\": {\"outlinewidth\": 0, \"ticks\": \"\"}, \"colorscale\": [[0.0, \"#0d0887\"], [0.1111111111111111, \"#46039f\"], [0.2222222222222222, \"#7201a8\"], [0.3333333333333333, \"#9c179e\"], [0.4444444444444444, \"#bd3786\"], [0.5555555555555556, \"#d8576b\"], [0.6666666666666666, \"#ed7953\"], [0.7777777777777778, \"#fb9f3a\"], [0.8888888888888888, \"#fdca26\"], [1.0, \"#f0f921\"]], \"type\": \"heatmapgl\"}], \"histogram\": [{\"marker\": {\"colorbar\": {\"outlinewidth\": 0, \"ticks\": \"\"}}, \"type\": \"histogram\"}], \"histogram2d\": [{\"colorbar\": {\"outlinewidth\": 0, \"ticks\": \"\"}, \"colorscale\": [[0.0, \"#0d0887\"], [0.1111111111111111, \"#46039f\"], [0.2222222222222222, \"#7201a8\"], [0.3333333333333333, \"#9c179e\"], [0.4444444444444444, \"#bd3786\"], [0.5555555555555556, \"#d8576b\"], [0.6666666666666666, \"#ed7953\"], [0.7777777777777778, \"#fb9f3a\"], [0.8888888888888888, \"#fdca26\"], [1.0, \"#f0f921\"]], \"type\": \"histogram2d\"}], \"histogram2dcontour\": [{\"colorbar\": {\"outlinewidth\": 0, \"ticks\": \"\"}, \"colorscale\": [[0.0, \"#0d0887\"], [0.1111111111111111, \"#46039f\"], [0.2222222222222222, \"#7201a8\"], [0.3333333333333333, \"#9c179e\"], [0.4444444444444444, \"#bd3786\"], [0.5555555555555556, \"#d8576b\"], [0.6666666666666666, \"#ed7953\"], [0.7777777777777778, \"#fb9f3a\"], [0.8888888888888888, \"#fdca26\"], [1.0, \"#f0f921\"]], \"type\": \"histogram2dcontour\"}], \"mesh3d\": [{\"colorbar\": {\"outlinewidth\": 0, \"ticks\": \"\"}, \"type\": \"mesh3d\"}], \"parcoords\": [{\"line\": {\"colorbar\": {\"outlinewidth\": 0, \"ticks\": \"\"}}, \"type\": \"parcoords\"}], \"pie\": [{\"automargin\": true, \"type\": \"pie\"}], \"scatter\": [{\"marker\": {\"colorbar\": {\"outlinewidth\": 0, \"ticks\": \"\"}}, \"type\": \"scatter\"}], \"scatter3d\": [{\"line\": {\"colorbar\": {\"outlinewidth\": 0, \"ticks\": \"\"}}, \"marker\": {\"colorbar\": {\"outlinewidth\": 0, \"ticks\": \"\"}}, \"type\": \"scatter3d\"}], \"scattercarpet\": [{\"marker\": {\"colorbar\": {\"outlinewidth\": 0, \"ticks\": \"\"}}, \"type\": \"scattercarpet\"}], \"scattergeo\": [{\"marker\": {\"colorbar\": {\"outlinewidth\": 0, \"ticks\": \"\"}}, \"type\": \"scattergeo\"}], \"scattergl\": [{\"marker\": {\"colorbar\": {\"outlinewidth\": 0, \"ticks\": \"\"}}, \"type\": \"scattergl\"}], \"scattermapbox\": [{\"marker\": {\"colorbar\": {\"outlinewidth\": 0, \"ticks\": \"\"}}, \"type\": \"scattermapbox\"}], \"scatterpolar\": [{\"marker\": {\"colorbar\": {\"outlinewidth\": 0, \"ticks\": \"\"}}, \"type\": \"scatterpolar\"}], \"scatterpolargl\": [{\"marker\": {\"colorbar\": {\"outlinewidth\": 0, \"ticks\": \"\"}}, \"type\": \"scatterpolargl\"}], \"scatterternary\": [{\"marker\": {\"colorbar\": {\"outlinewidth\": 0, \"ticks\": \"\"}}, \"type\": \"scatterternary\"}], \"surface\": [{\"colorbar\": {\"outlinewidth\": 0, \"ticks\": \"\"}, \"colorscale\": [[0.0, \"#0d0887\"], [0.1111111111111111, \"#46039f\"], [0.2222222222222222, \"#7201a8\"], [0.3333333333333333, \"#9c179e\"], [0.4444444444444444, \"#bd3786\"], [0.5555555555555556, \"#d8576b\"], [0.6666666666666666, \"#ed7953\"], [0.7777777777777778, \"#fb9f3a\"], [0.8888888888888888, \"#fdca26\"], [1.0, \"#f0f921\"]], \"type\": \"surface\"}], \"table\": [{\"cells\": {\"fill\": {\"color\": \"#EBF0F8\"}, \"line\": {\"color\": \"white\"}}, \"header\": {\"fill\": {\"color\": \"#C8D4E3\"}, \"line\": {\"color\": \"white\"}}, \"type\": \"table\"}]}, \"layout\": {\"annotationdefaults\": {\"arrowcolor\": \"#2a3f5f\", \"arrowhead\": 0, \"arrowwidth\": 1}, \"coloraxis\": {\"colorbar\": {\"outlinewidth\": 0, \"ticks\": \"\"}}, \"colorscale\": {\"diverging\": [[0, \"#8e0152\"], [0.1, \"#c51b7d\"], [0.2, \"#de77ae\"], [0.3, \"#f1b6da\"], [0.4, \"#fde0ef\"], [0.5, \"#f7f7f7\"], [0.6, \"#e6f5d0\"], [0.7, \"#b8e186\"], [0.8, \"#7fbc41\"], [0.9, \"#4d9221\"], [1, \"#276419\"]], \"sequential\": [[0.0, \"#0d0887\"], [0.1111111111111111, \"#46039f\"], [0.2222222222222222, \"#7201a8\"], [0.3333333333333333, \"#9c179e\"], [0.4444444444444444, \"#bd3786\"], [0.5555555555555556, \"#d8576b\"], [0.6666666666666666, \"#ed7953\"], [0.7777777777777778, \"#fb9f3a\"], [0.8888888888888888, \"#fdca26\"], [1.0, \"#f0f921\"]], \"sequentialminus\": [[0.0, \"#0d0887\"], [0.1111111111111111, \"#46039f\"], [0.2222222222222222, \"#7201a8\"], [0.3333333333333333, \"#9c179e\"], [0.4444444444444444, \"#bd3786\"], [0.5555555555555556, \"#d8576b\"], [0.6666666666666666, \"#ed7953\"], [0.7777777777777778, \"#fb9f3a\"], [0.8888888888888888, \"#fdca26\"], [1.0, \"#f0f921\"]]}, \"colorway\": [\"#636efa\", \"#EF553B\", \"#00cc96\", \"#ab63fa\", \"#FFA15A\", \"#19d3f3\", \"#FF6692\", \"#B6E880\", \"#FF97FF\", \"#FECB52\"], \"font\": {\"color\": \"#2a3f5f\"}, \"geo\": {\"bgcolor\": \"white\", \"lakecolor\": \"white\", \"landcolor\": \"#E5ECF6\", \"showlakes\": true, \"showland\": true, \"subunitcolor\": \"white\"}, \"hoverlabel\": {\"align\": \"left\"}, \"hovermode\": \"closest\", \"mapbox\": {\"style\": \"light\"}, \"paper_bgcolor\": \"white\", \"plot_bgcolor\": \"#E5ECF6\", \"polar\": {\"angularaxis\": {\"gridcolor\": \"white\", \"linecolor\": \"white\", \"ticks\": \"\"}, \"bgcolor\": \"#E5ECF6\", \"radialaxis\": {\"gridcolor\": \"white\", \"linecolor\": \"white\", \"ticks\": \"\"}}, \"scene\": {\"xaxis\": {\"backgroundcolor\": \"#E5ECF6\", \"gridcolor\": \"white\", \"gridwidth\": 2, \"linecolor\": \"white\", \"showbackground\": true, \"ticks\": \"\", \"zerolinecolor\": \"white\"}, \"yaxis\": {\"backgroundcolor\": \"#E5ECF6\", \"gridcolor\": \"white\", \"gridwidth\": 2, \"linecolor\": \"white\", \"showbackground\": true, \"ticks\": \"\", \"zerolinecolor\": \"white\"}, \"zaxis\": {\"backgroundcolor\": \"#E5ECF6\", \"gridcolor\": \"white\", \"gridwidth\": 2, \"linecolor\": \"white\", \"showbackground\": true, \"ticks\": \"\", \"zerolinecolor\": \"white\"}}, \"shapedefaults\": {\"line\": {\"color\": \"#2a3f5f\"}}, \"ternary\": {\"aaxis\": {\"gridcolor\": \"white\", \"linecolor\": \"white\", \"ticks\": \"\"}, \"baxis\": {\"gridcolor\": \"white\", \"linecolor\": \"white\", \"ticks\": \"\"}, \"bgcolor\": \"#E5ECF6\", \"caxis\": {\"gridcolor\": \"white\", \"linecolor\": \"white\", \"ticks\": \"\"}}, \"title\": {\"x\": 0.05}, \"xaxis\": {\"automargin\": true, \"gridcolor\": \"white\", \"linecolor\": \"white\", \"ticks\": \"\", \"title\": {\"standoff\": 15}, \"zerolinecolor\": \"white\", \"zerolinewidth\": 2}, \"yaxis\": {\"automargin\": true, \"gridcolor\": \"white\", \"linecolor\": \"white\", \"ticks\": \"\", \"title\": {\"standoff\": 15}, \"zerolinecolor\": \"white\", \"zerolinewidth\": 2}}}},\n",
       "                        {\"responsive\": true}\n",
       "                    ).then(function(){\n",
       "                            \n",
       "var gd = document.getElementById('56b6c038-7ee3-485d-9a99-9dc7bf37ff80');\n",
       "var x = new MutationObserver(function (mutations, observer) {{\n",
       "        var display = window.getComputedStyle(gd).display;\n",
       "        if (!display || display === 'none') {{\n",
       "            console.log([gd, 'removed!']);\n",
       "            Plotly.purge(gd);\n",
       "            observer.disconnect();\n",
       "        }}\n",
       "}});\n",
       "\n",
       "// Listen for the removal of the full notebook cells\n",
       "var notebookContainer = gd.closest('#notebook-container');\n",
       "if (notebookContainer) {{\n",
       "    x.observe(notebookContainer, {childList: true});\n",
       "}}\n",
       "\n",
       "// Listen for the clearing of the current output cell\n",
       "var outputEl = gd.closest('.output');\n",
       "if (outputEl) {{\n",
       "    x.observe(outputEl, {childList: true});\n",
       "}}\n",
       "\n",
       "                        })\n",
       "                };\n",
       "                });\n",
       "            </script>\n",
       "        </div>"
      ]
     },
     "metadata": {},
     "output_type": "display_data"
    }
   ],
   "source": [
    "geojson = 'https://data.cityofnewyork.us/api/geospatial/yfnk-k7r4?method=export&format=GeoJSON'\n",
    "\n",
    "fig = px.choropleth_mapbox(df,\n",
    "                           geojson=geojson,\n",
    "                           locations='borocd',\n",
    "                           featureidkey='properties.boro_cd',\n",
    "                           color='change',\n",
    "                           hover_data=['CD Name'],\n",
    "                           center = {'lat': 40.73, 'lon': -73.98},\n",
    "                           zoom=9,\n",
    "                           mapbox_style='carto-positron')\n",
    "\n",
    "fig.update_layout(height=700)\n",
    "fig.show()"
   ]
  },
  {
   "cell_type": "markdown",
   "metadata": {},
   "source": [
    "## Step 8\n",
    "\n",
    "***Analysis: Washington Heights and Inwood (the tall skinny community district at the top of Manhattan) are \"up and coming\" neighborhoods. Why might you guess the population decreased?***\n",
    "\n",
    "YOUR ANSWER HERE\n",
    "\n",
    "Then, read the first three paragraphs of the `Demographics` section of [An Economic Snapshot of Washington Heights and Inwood from June 2015](https://www.osc.state.ny.us/osdc/rpt2-2016.pdf#page=2)."
   ]
  }
 ],
 "metadata": {
  "kernelspec": {
   "display_name": "Python 3",
   "language": "python",
   "name": "python3"
  },
  "language_info": {
   "codemirror_mode": {
    "name": "ipython",
    "version": 3
   },
   "file_extension": ".py",
   "mimetype": "text/x-python",
   "name": "python",
   "nbconvert_exporter": "python",
   "pygments_lexer": "ipython3",
   "version": "3.8.0"
  }
 },
 "nbformat": 4,
 "nbformat_minor": 4
}
